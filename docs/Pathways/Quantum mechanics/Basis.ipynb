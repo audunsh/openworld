{
 "cells": [
  {
   "cell_type": "markdown",
   "id": "37454d7c",
   "metadata": {},
   "source": [
    "# Basis - from linear algebra to quantum chemistry\n",
    "\n",
    "<b>Developed by</b> Elias Anderssen Dalan <a href=\"mailto:ceadyy@gmail.com\">✉️</a>, supported by Centre for Computing in Science Education and Hylleraas Centre for Quantum Molecular Sciences."
   ]
  },
  {
   "cell_type": "markdown",
   "id": "146f0bbe",
   "metadata": {},
   "source": [
    "### Note:\n",
    "\n",
    "If you are not familliar with Dirac notation I suggest that you read <a href=\"https://openworldlearning.github.io/docs/quantum_mechanics/linear_combinations.html\">this notebook</a>, as it allows a much denser form of mathmatical notation.  "
   ]
  },
  {
   "cell_type": "markdown",
   "id": "2f359c83",
   "metadata": {},
   "source": [
    "## The classical encounter in linear algebra\n",
    "From your mathmatical studies you might have encountered the term *basis*. Do not worry if this does not ring a bell, we will go through as short summary together! \n",
    "\n",
    "Let us first go through the classic definition of a basis you encounter in your linear algebra course:\n",
    "\n",
    "A set of vectors, $B = \\{\\mathbf{v_1}, \\mathbf{v_2},...,\\mathbf{v_m}\\}$, in some vector space $V$ is called a basis for $V$ if every element in $V$ can be written as a linear combination of the vectors in $B$. In other words: If every vector, $\\mathbf{w}$, in $V$ can be expressed as some vector $\\mathbf{w} = c_1 \\mathbf{v_1} + c_2 \\mathbf{v_2} + ... + c_m \\mathbf{v_m}$ then $B$ is a basis for $V$. \n",
    "\n",
    "This might still be difficult to wrap your head around, so lets look at a concrete example:\n",
    "The vectors $\\hat{\\imath} = (1, 0, 0)$, $\\hat{\\jmath} = (0, 1, 0)$ and $\\hat{k} = (0, 0, 1)$ are a basis for $\\mathbb{R}^3$ since every vector in $\\mathbb{R}^3$ can be expressed as a linear combination of $\\hat{\\imath}$,  $\\hat{\\jmath}$ and $\\hat{k}$!\n",
    "\n",
    "### Questions/tasks you might want to try:\n",
    "\n",
    "<ul>\n",
    "    <li> Is $B = \\{\\hat{\\imath}$, $\\hat{\\jmath}$, $\\hat{k}$} the only basis for $\\mathbb{R}^3$? Can you find examples \n",
    "         of other basises? Hint: maybe a set of three different orthogonal vectors will work?\n",
    "</ul>"
   ]
  },
  {
   "cell_type": "markdown",
   "id": "d7f5b096",
   "metadata": {},
   "source": [
    "## Expanding into functions\n",
    "\n",
    "The concept of a *basis* can be expanded to functions! Just like you can represent a vector as a linear combination of basisvectors, you can represent a function $\\vert f(x) \\rangle$ as a linear combination of basisfunctions from some set $\\mathcal{G} = \\{\\vert g_1 (x) \\rangle, \\vert g_2 (x) \\rangle, ..., \\vert g_m (x) \\rangle \\}$, where\n",
    "\n",
    "$$\n",
    "\\vert f(x) \\rangle = \\sum_m f_m \\vert g_m \\rangle,\n",
    "$$\n",
    "and $f_m$ are coefficients. You are probably more familliar with this than you think, namely the Fourier series! Any function can be expressed as a linear combination of a basis of different sine and cosine functions. \n",
    "\n",
    "### Questions/tasks you might want to try:\n",
    "\n",
    "<ul>\n",
    "    <li> Try to suggest a basis for $f(x) = 4x^3 + 3x + 1$\n",
    "</ul>"
   ]
  },
  {
   "cell_type": "markdown",
   "id": "3aa91068",
   "metadata": {},
   "source": [
    "## The term basis in quantum chemistry\n",
    "\n",
    "In quantum chemistry we often use the term *basis* when talking about some set of functions used to describe some chemichal system. These sets are often just referred to as *basis sets*. There is not much theory here, so lets jump right into an example! \n",
    "\n",
    "Let us say you want to describe a $1s$-hydrogen orbital. We will be concerned about one dimensional hydrogen, as it is the easiest to visualize, but the theory is easily transferrable to higher dimensions. The electronic Schrødinger-equation for atomic hydrogen is one of the few quantum systems we are able to solve analytically, and the wave equation for the $1s$-orbital in one dimension is,\n",
    "$$\n",
    "\\vert \\psi_{1s} \\rangle = \\big (\\frac{1}{1} \\big ) e^{-\\vert x \\vert}.\n",
    "$$\n",
    "\n",
    "The absolute value in the exponent makes calculations quite difficult, as derivatives of the absolute value are not well defined at the center. To try to mimic the cusp-like behaviour of $\\vert \\psi \\rangle$ we often use basis of Gaussian exponentials and create a linear combination of them to approximate the true $\\vert \\psi \\rangle$. There are three different basis sets provided, using the STO-nG format, where n denotes the number of basis functions in our basis set. The following sets are provided:\n",
    "$$\n",
    "\\text{STO-3G} = \\{ \\},\n",
    "$$\n",
    "and\n",
    "$$\n",
    "\\text{STO-5G} = \\{ \\}.\n",
    "$$\n",
    "\n",
    "Let us plot them and see how they mimic $\\vert \\psi \\rangle$!"
   ]
  },
  {
   "cell_type": "code",
   "execution_count": 1,
   "id": "979ee1b4",
   "metadata": {},
   "outputs": [],
   "source": [
    "import matplotlib.pyplot as plt\n",
    "import numpy as np"
   ]
  },
  {
   "cell_type": "code",
   "execution_count": 17,
   "id": "2588249e",
   "metadata": {},
   "outputs": [
    {
     "name": "stdout",
     "output_type": "stream",
     "text": [
      "[0.14285714285714285, 0.2857142857142857, 1.0] [0.14285714285714285, 0.14285714285714285, 0.42857142857142855]\n"
     ]
    }
   ],
   "source": [
    "def loss(exps, cs):\n",
    "    x = np.linspace(-10, 10, 1000)\n",
    "    loss = 0\n",
    "    y_gto = 0\n",
    "    for e, c in zip(exps, cs):\n",
    "        y_gto += c * np.exp(-e * x**2)\n",
    "        \n",
    "    loss = np.mean(np.abs(y_gto - np.exp(-np.abs(x))))\n",
    "    \n",
    "    return loss\n",
    "\n",
    "exponents = np.linspace(0, 1, 15)\n",
    "preexp_factors = np.linspace(0, 1, 15)\n",
    "\n",
    "zetas = []\n",
    "cs = []\n",
    "min_loss = np.inf\n",
    "\n",
    "for e1 in exponents:\n",
    "    for e2 in exponents:\n",
    "        for e3 in exponents:\n",
    "            for c1 in preexp_factors:\n",
    "                for c2 in preexp_factors:\n",
    "                    for c3 in preexp_factors:\n",
    "                        current_loss = loss([e1, e2, e3], [c1, c2, c3])\n",
    "                        \n",
    "                        if current_loss < min_loss:\n",
    "                            zetas = [e1, e2, e3]\n",
    "                            cs = [c1, c2, c3]\n",
    "                            min_loss = current_loss\n",
    "print(zetas, cs)"
   ]
  },
  {
   "cell_type": "code",
   "execution_count": 15,
   "id": "53a4c174",
   "metadata": {},
   "outputs": [],
   "source": [
    "x = np.linspace(-30, 30, 1000)\n",
    "\n",
    "phi_gto = lambda x: cs[0]*np.exp(-zetas[0]*x**2) + cs[1]*np.exp(-zetas[1]*x**2) + cs[2]*np.exp(-zetas[2]*x**2)"
   ]
  },
  {
   "cell_type": "code",
   "execution_count": 16,
   "id": "9e012689",
   "metadata": {},
   "outputs": [
    {
     "data": {
      "image/png": "[encoded data removed]",
      "text/plain": [
       "<Figure size 432x288 with 1 Axes>"
      ]
     },
     "metadata": {
      "needs_background": "light"
     },
     "output_type": "display_data"
    }
   ],
   "source": [
    "plt.plot(x, phi_gto(x))\n",
    "plt.plot(x, np.exp(-np.abs(x)))\n",
    "plt.yscale(\"log\")"
   ]
  },
  {
   "cell_type": "code",
   "execution_count": null,
   "id": "d63d1b50",
   "metadata": {},
   "outputs": [],
   "source": []
  }
 ],
 "metadata": {
  "kernelspec": {
   "display_name": "Python 3 (ipykernel)",
   "language": "python",
   "name": "python3"
  },
  "language_info": {
   "codemirror_mode": {
    "name": "ipython",
    "version": 3
   },
   "file_extension": ".py",
   "mimetype": "text/x-python",
   "name": "python",
   "nbconvert_exporter": "python",
   "pygments_lexer": "ipython3",
   "version": "3.8.3"
  }
 },
 "nbformat": 4,
 "nbformat_minor": 5
}
