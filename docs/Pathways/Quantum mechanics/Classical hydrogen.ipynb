{
 "cells": [
  {
   "cell_type": "markdown",
   "id": "3e2ebb46",
   "metadata": {},
   "source": [
    "# Classical mechanics "
   ]
  },
  {
   "cell_type": "markdown",
   "id": "1195255a",
   "metadata": {},
   "source": [
    "How is classical physics unable to properly describe the quantum world? As it turns out, the answer is not so much about stuff missing in our the classical theories, but rather about intrinsic misconceptions about nature resulting in predictions inconsistent with observation.\n",
    "\n",
    "In this session we’ll explore the quantum world through a classical lens, face some of the problematic predictions, ponder some possible solutions, and anticipate how the problem can be resolved by actually relaxing the confines of classical physics.\n",
    "\n",
    "We know with a really high degree of certainty that most of the matter that we interact with in our universe consists of positively charged protons and negatively charged, relatively light-massed electrons, combining into atoms. The experimental basis for this knowledge is quite convincing:\n",
    "\n",
    "First, John Dalton observed in the early 1800s that chemical compounds involving the same elements typically contains integer multiple fractions of mass of the same elements. (state this better, give example). \n",
    "\n",
    "This makes it reasonable to assume that there is some basic smallest unit of mass of an element, which Dalton named the “atom”. \n",
    "\n",
    "Nearly a century later, J.J. Thomson observed atoms emitting charged particles from a cathode ray tube, in turn named electrons.\n",
    "\n",
    "Based on this, it was assumed that the atom consisted of these charged electrons and some content of opposing charge, but the structure of the atom remained veiled. \n",
    "\n",
    "A series of experiments performed between 1908 and 1913 by Rutherford and collaborators showed that a beam of positively charged particles fired towards atoms mostly just passed through it. However, some few particles deflected, and some even reflected in the same direction they came from. \n",
    "\n",
    "Rutherford thus concluded that atoms contained a small, but massive, nucleus of positively charge.\n",
    "\n",
    "This is where classical physics enters the picture. The interaction between charged particles can be cast in terms of the Coulomb force, such that the force acting on a charge $Q_1$ situated at $\\mathbf{f}$ from a charge $Q_2$ situated at $\\mathbf{r}_2$ is expressed\n",
    "\\begin{equation}\n",
    "\\mathbf{F}_1 = \\frac{1}{4 \\pi \\varepsilon_0} \\frac{Q_1Q_2}{r_{12}^2} \\hat{\\mathbf{r}},\n",
    "\\end{equation}\n",
    "where $r_{12} = \\vert \\mathbf{r}_{12} \\vert = \\vert \\mathbf{r}_1 - \\mathbf{r}_2 \\vert$ and the unit vector $\\hat{\\mathbf{r}} = \\frac{\\mathbf{r}_1 - \\mathbf{r}_2}{r_{12}}$.\n",
    "\n",
    "Knowing the charge, the masses and thus the force, the system should evolve according to newtons second law:\n",
    "\n",
    "\\begin{equation}\n",
    "F = m \\big{(}\\frac{d}{dt} \\big{)}^2 x(t)\n",
    "\\end{equation}\n",
    "\n",
    "In order to obtain trajectories, we should then integrate  (of course, this is in practice a bit tricky since we have a many body problem, but numerically it is rather straight forward) \n",
    "\n",
    "\n",
    "How stable is such a system? Does it form bonds, or does interesting geometries arise? Let's do some quick and dirty simulations to get a feel for the system."
   ]
  }
 ],
 "metadata": {
  "kernelspec": {
   "display_name": "Python 3",
   "language": "python",
   "name": "python3"
  },
  "language_info": {
   "codemirror_mode": {
    "name": "ipython",
    "version": 3
   },
   "file_extension": ".py",
   "mimetype": "text/x-python",
   "name": "python",
   "nbconvert_exporter": "python",
   "pygments_lexer": "ipython3",
   "version": "3.8.3"
  }
 },
 "nbformat": 4,
 "nbformat_minor": 5
}
