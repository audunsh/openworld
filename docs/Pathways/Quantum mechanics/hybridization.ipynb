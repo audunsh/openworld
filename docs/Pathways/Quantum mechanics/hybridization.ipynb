{
 "cells": [
  {
   "cell_type": "markdown",
   "id": "d36c0733",
   "metadata": {},
   "source": [
    "# What is hybridization?"
   ]
  },
  {
   "cell_type": "markdown",
   "id": "1344fe0e",
   "metadata": {},
   "source": [
    "You may be familliar with the concept of hybridization of atomic orbitals, where two or more orbitals come together to form molecular orbitals of different geometry. Before we dive into the more intricate theory, let us return to the basic definitioins, and build our understanding from the ground up!"
   ]
  },
  {
   "cell_type": "markdown",
   "id": "37f766db",
   "metadata": {},
   "source": [
    "Because of the wave-like behaviour of the electron we cannot describe it's position mathmatically as some function $\\psi(t)$, because position is not an intrinsic property of the electron. We rather have to describe it by a probability distrubution $\\psi(\\mathbf{x},t)$, that is, the probability that we find it at some point in space $\\mathbf{x}$ at some point in time $t$. We often define the orbital (or rather the geometric figure shown in textbooks and the like) as the region in which the probability to find the electron is high. Lets take a look at an orbital!"
   ]
  },
  {
   "cell_type": "code",
   "execution_count": 1,
   "id": "5e168b7b",
   "metadata": {
    "scrolled": true
   },
   "outputs": [],
   "source": [
    "import braketlab as bk\n",
    "import numpy as np\n",
    "import evince as ev"
   ]
  },
  {
   "cell_type": "code",
   "execution_count": 2,
   "id": "53dee57c",
   "metadata": {},
   "outputs": [
    {
     "data": {
      "application/vnd.jupyter.widget-view+json": {
       "model_id": "f3927260810e4e7cbd58f7bc79486bc2",
       "version_major": 2,
       "version_minor": 0
      },
      "text/plain": [
       "BraketView(ao=[1], fragment_shader='uniform vec3 user_color;\\nuniform float time;\\n\\nvarying vec2 vUv;\\nvaryin…"
      ]
     },
     "metadata": {},
     "output_type": "display_data"
    }
   ],
   "source": [
    "#Exponential factor:\n",
    "alpha = 1 \n",
    "\n",
    "#Azimuthal quantum number:\n",
    "l = 1\n",
    "\n",
    "#Magnetic quantum number\n",
    "m = 0\n",
    "\n",
    "scaling_factor = 1.5 #If this is too low the orbital might be difficult to look at :-)\n",
    "\n",
    "#Position:\n",
    "p_pos = np.array([0, 0, 0])\n",
    "\n",
    "#Creating the orbital:\n",
    "p_gto = bk.basisbank.get_gto(alpha, l, m, p_pos) * scaling_factor\n",
    "\n",
    "#Remember that our wavefunction is only a probability amplitude! The square modulus is the probability distribution\n",
    "p_gto = p_gto * p_gto \n",
    "\n",
    "#Lets look at it!\n",
    "p_gto.view()"
   ]
  },
  {
   "cell_type": "markdown",
   "id": "4b01ffda",
   "metadata": {},
   "source": [
    "Pretty cool, right? Your very own p-orbital. If you are running this notebook in the jupyterhub-environment you can even interact with it! \n",
    "\n",
    "## What are hybridized orbitals, and why do we need them?\n",
    "\n",
    "The geometry of normal atomic orbitals (s, p, d, f) does not allow the geometry of molecules, such as bent or tetrahedal shaped molecules. An example of a carbon with its s and p orbitals is shown in the figure under:\n",
    "<img src=\"media/sppp.jpeg\" width=20%>\n",
    "If this atom was to bond with 4 hydrogens and create methane, a tetrahedal modecule, how would it? We have to extend the orbital model for this to work. A detailed explanation of this extension will not be provided here, but if you want to read more about it you can do so <a href=\"https://chem.libretexts.org/Courses/Pacific_Union_College/Quantum_Chemistry/10%3A_Bonding_in_Polyatomic_Molecules/10.01%3A_Hybrid_Orbitals_Account_for_Molecular_Shape\"> here </a>! To create what we called hybridized orbitals we take linear combinations of the atomic orbitals to create some new molecular orbitals. Lets do this and look at an $sp^3$ hybridized orbital:"
   ]
  },
  {
   "cell_type": "code",
   "execution_count": 3,
   "id": "abedddd4",
   "metadata": {
    "scrolled": false
   },
   "outputs": [
    {
     "data": {
      "application/vnd.jupyter.widget-view+json": {
       "model_id": "c05daf55d4894cf09fe7b74110685001",
       "version_major": 2,
       "version_minor": 0
      },
      "text/plain": [
       "BraketView(ao=[1], fragment_shader='uniform vec3 user_color;\\nuniform float time;\\n\\nvarying vec2 vUv;\\nvaryin…"
      ]
     },
     "metadata": {},
     "output_type": "display_data"
    }
   ],
   "source": [
    "s = bk.basisbank.get_gto(alpha, 0, 0)\n",
    "px = bk.basisbank.get_gto(alpha, 1, 0)\n",
    "py = bk.basisbank.get_gto(alpha, 1, -1)\n",
    "pz = bk.basisbank.get_gto(alpha, 1, 1)\n",
    "\n",
    "scaling_factor = 1.5 #If this is too low the orbital might be difficult to look at :-)\n",
    "\n",
    "#sp3 hybridized:\n",
    "sp3 = (s + px + py + pz) * scaling_factor\n",
    "sp3 = sp3 * sp3\n",
    "\n",
    "sp3.view()"
   ]
  },
  {
   "cell_type": "markdown",
   "id": "d0027d8c",
   "metadata": {},
   "source": [
    "The big red lobe is what we usually think of as the bonding orbital, while the dim red one is what we usually think of as the antibonding orbital. Isn´t this cool? Now you know about hybridization and why we have to expand our atomic orbital model. At the end of the notebook some questions are provided, that you may discuss with peers or ponder upon by yourself."
   ]
  },
  {
   "cell_type": "markdown",
   "id": "3ca09074",
   "metadata": {},
   "source": [
    "<div class=\"main\" style=\"width:100%;text-align:center;background-color:\">\n",
    "    <h2> Questions you may ponder upon:</h2>\n",
    "    <ul>\n",
    "        <li> Orbitals are a mathmatical way of describing the behaviour of electrons, but can they be considered to be truly \"real\"?.\n",
    "        <li> Can you think of any ways that this mathmatical model can provide limitations in our understanding of the quantum world?\n",
    "    </ul>\n",
    "</div>"
   ]
  }
 ],
 "metadata": {
  "kernelspec": {
   "display_name": "Python 3 (ipykernel)",
   "language": "python",
   "name": "python3"
  },
  "language_info": {
   "codemirror_mode": {
    "name": "ipython",
    "version": 3
   },
   "file_extension": ".py",
   "mimetype": "text/x-python",
   "name": "python",
   "nbconvert_exporter": "python",
   "pygments_lexer": "ipython3",
   "version": "3.8.3"
  },
  "widgets": {
   "application/vnd.jupyter.widget-state+json": {
    "state": {
     "00379ba225bf473b89553c7499d56503": {
      "model_module": "@jupyter-widgets/base",
      "model_module_version": "1.2.0",
      "model_name": "LayoutModel",
      "state": {}
     },
     "00a688fab2cf4a45bfdacd4fd74d70a0": {
      "model_module": "@jupyter-widgets/base",
      "model_module_version": "1.2.0",
      "model_name": "LayoutModel",
      "state": {}
     },
     "05d1d5c695e24e629efaa0cf3d80ce0c": {
      "model_module": "@jupyter-widgets/base",
      "model_module_version": "1.2.0",
      "model_name": "LayoutModel",
      "state": {}
     },
     "076cb6263214494785ce1dfab79b117c": {
      "model_module": "@jupyter-widgets/base",
      "model_module_version": "1.2.0",
      "model_name": "LayoutModel",
      "state": {}
     },
     "080db232b3fb425eb8de802dabb7f320": {
      "model_module": "@jupyter-widgets/base",
      "model_module_version": "1.2.0",
      "model_name": "LayoutModel",
      "state": {}
     },
     "092c92dafdb24dfc9787b2d7a75a0477": {
      "model_module": "@jupyter-widgets/base",
      "model_module_version": "1.2.0",
      "model_name": "LayoutModel",
      "state": {}
     },
     "142edc5143524e1bb929bbb5ca955a35": {
      "model_module": "@jupyter-widgets/base",
      "model_module_version": "1.2.0",
      "model_name": "LayoutModel",
      "state": {}
     },
     "15ab1e3750fa4386a6c47c5dd6c302fc": {
      "model_module": "evince",
      "model_module_version": "^0.2.0",
      "model_name": "BraketModel",
      "state": {
       "_model_module_version": "^0.2.0",
       "_view_module_version": "^0.2.0",
       "ao": [
        1
       ],
       "fragment_shader": "uniform vec3 user_color;\nuniform float time;\n\nvarying vec2 vUv;\nvarying vec3 pos;\nvarying vec3 tex;\nvarying float q;\nvarying float csI;\nvarying float csR;\nvarying float cs0;\nvarying float cs1;\nvarying float cs;\n\nvoid main() {\n\n    vec2 p = vUv;\n    float q = tex[0]*tex[0] +tex[1]*tex[1] +tex[2]*tex[2] ;\n    float cs0 = 2.0317963498957119*pow(tex[2], 2.0)*exp(-2.0*q);\n    float cs1 = 2.0317963498957119*pow(tex[1], 2.0)*exp(-2.0*q);\n    float csI = 0.0 ;\n    float csR = cs0 + cs1 ;\n    gl_FragColor = gl_FragColor + vec4(csR, csI, -1.0*csR, .1);\n}",
       "layout": "IPY_MODEL_5bb8feb9d4cf454fb4e8e16828eb18fe",
       "pos": [],
       "surf": []
      }
     },
     "16c9cdb21b3946998c842a37f3309cb8": {
      "model_module": "@jupyter-widgets/base",
      "model_module_version": "1.2.0",
      "model_name": "LayoutModel",
      "state": {}
     },
     "18e1e1698b01465db84bc3df02cf30e2": {
      "model_module": "@jupyter-widgets/base",
      "model_module_version": "1.2.0",
      "model_name": "LayoutModel",
      "state": {}
     },
     "19aa54d81b0f487396668a4be5656937": {
      "model_module": "evince",
      "model_module_version": "^0.2.0",
      "model_name": "BraketModel",
      "state": {
       "_model_module_version": "^0.2.0",
       "_view_module_version": "^0.2.0",
       "ao": [
        1
       ],
       "fragment_shader": "uniform vec3 user_color;\nuniform float time;\n\nvarying vec2 vUv;\nvarying vec3 pos;\nvarying vec3 tex;\nvarying float q;\nvarying float csI;\nvarying float csR;\nvarying float cs0;\nvarying float cs;\n\nvoid main() {\n\n    vec2 p = vUv;\n    float q = tex[0]*tex[0] +tex[1]*tex[1] +tex[2]*tex[2] ;\n    float cs0 = 2.0317963498957119*pow(tex[2], 2.0)*exp(-2.0*q);\n    float csI = 0.0 ;\n    float csR = cs0 ;\n    gl_FragColor = gl_FragColor + vec4(csR, csI, -1.0*csR, .1);\n}",
       "layout": "IPY_MODEL_a03c8a860ea64b1c8dec85962edac1d4",
       "pos": [],
       "surf": []
      }
     },
     "1afc62c08d9944fa80e20a6239119490": {
      "model_module": "evince",
      "model_module_version": "^0.2.0",
      "model_name": "BraketModel",
      "state": {
       "_model_module_version": "^0.2.0",
       "_view_module_version": "^0.2.0",
       "ao": [
        1
       ],
       "fragment_shader": "uniform vec3 user_color;\nuniform float time;\n\nvarying vec2 vUv;\nvarying vec3 pos;\nvarying vec3 tex;\nvarying float q;\nvarying float csI;\nvarying float csR;\nvarying float cs0;\nvarying float cs1;\nvarying float cs;\n\nvoid main() {\n\n    vec2 p = vUv;\n    float q = tex[0]*tex[0] +tex[1]*tex[1] +tex[2]*tex[2] ;\n    float cs0 = 1.4254109407099806*tex[2]*exp(-1.0*q);\n    float cs1 = 1.4254109407099806*tex[1]*exp(-1.0*q);\n    float csI = 0.0 ;\n    float csR = cs0 + cs1 ;\n    gl_FragColor = gl_FragColor + vec4(csR, csI, -1.0*csR, .1);\n}",
       "layout": "IPY_MODEL_e2fa4e57ca9b44ad9af5b571af70b29e",
       "pos": [],
       "surf": []
      }
     },
     "1afd0516348d4838af29e99fc4b8c81a": {
      "model_module": "@jupyter-widgets/base",
      "model_module_version": "1.2.0",
      "model_name": "LayoutModel",
      "state": {}
     },
     "1b8e2646b4d54652befc0a6af53fa76b": {
      "model_module": "@jupyter-widgets/base",
      "model_module_version": "1.2.0",
      "model_name": "DOMWidgetModel",
      "state": {
       "_model_name": "DOMWidgetModel",
       "_view_module": "braketview",
       "_view_module_version": "0.0.0",
       "_view_name": "BraketView",
       "ao": [
        1
       ],
       "fragment_shader": "uniform vec3 user_color;\nuniform float time;\n\nvarying vec2 vUv;\nvarying vec3 pos;\nvarying vec3 tex;\nvarying float q;\nvarying float csI;\nvarying float csR;\nvarying float cs0;\nvarying float cs;\n\nvoid main() {\n\n    vec2 p = vUv;\n    float q = tex[0]*tex[0] +tex[1]*tex[1] +tex[2]*tex[2] ;\n    float cs0 = 50.794908747392796*pow(tex[2], 2.0)*exp(-2.0*q);\n    float csI = 0.0 ;\n    float csR = cs0 ;\n    gl_FragColor = gl_FragColor + vec4(csR, csI, -1.0*csR, .1);\n}",
       "layout": "IPY_MODEL_805507bc1d364767b07f3211039f3cc8",
       "pos": [],
       "surf": []
      }
     },
     "24c9a6c5db5248ff8500230dfa8d57f7": {
      "model_module": "@jupyter-widgets/base",
      "model_module_version": "1.2.0",
      "model_name": "LayoutModel",
      "state": {}
     },
     "27af2a86f12d486e8eca064d62b29e03": {
      "model_module": "evince",
      "model_module_version": "^0.2.0",
      "model_name": "BraketModel",
      "state": {
       "_model_module_version": "^0.2.0",
       "_view_module_version": "^0.2.0",
       "ao": [
        1
       ],
       "fragment_shader": "uniform vec3 user_color;\nuniform float time;\n\nvarying vec2 vUv;\nvarying vec3 pos;\nvarying vec3 tex;\nvarying float q;\nvarying float csI;\nvarying float csR;\nvarying float cs0;\nvarying float cs1;\nvarying float cs2;\nvarying float cs;\n\nvoid main() {\n\n    vec2 p = vUv;\n    float q = tex[0]*tex[0] +tex[1]*tex[1] +tex[2]*tex[2] ;\n    float cs0 = 0.30047238713552588*pow(tex[2], 2.0)*exp(-0.59999999999999998*q);\n    float cs1 = 0.10015746237850863*pow(tex[1], 2.0)*exp(-0.59999999999999998*q);\n    float cs2 = 0.10015746237850863*pow(tex[0], 2.0)*exp(-0.59999999999999998*q);\n    float csI = 0.0 ;\n    float csR = cs0 + cs1 + cs2 ;\n    gl_FragColor = gl_FragColor + vec4(csR, csI, -1.0*csR, .1);\n}",
       "layout": "IPY_MODEL_de6583e87e1f49a5ae74b85c0cc9db1b",
       "pos": [],
       "surf": []
      }
     },
     "2df532ba851e4442843d2d0223e41d6a": {
      "model_module": "@jupyter-widgets/base",
      "model_module_version": "1.2.0",
      "model_name": "DOMWidgetModel",
      "state": {
       "_model_name": "DOMWidgetModel",
       "_view_module": "braketview",
       "_view_module_version": "0.0.0",
       "_view_name": "BraketView",
       "ao": [
        1
       ],
       "fragment_shader": "uniform vec3 user_color;\nuniform float time;\n\nvarying vec2 vUv;\nvarying vec3 pos;\nvarying vec3 tex;\nvarying float q;\nvarying float csI;\nvarying float csR;\nvarying float cs0;\nvarying float cs;\n\nvoid main() {\n\n    vec2 p = vUv;\n    float q = tex[0]*tex[0] +tex[1]*tex[1] +tex[2]*tex[2] ;\n    float cs0 = 1.4254109407099806*tex[2]*exp(-1.0*q);\n    float csI = 0.0 ;\n    float csR = cs0 ;\n    gl_FragColor = gl_FragColor + vec4(csR, csI, -1.0*csR, .1);\n}",
       "layout": "IPY_MODEL_d4604883249e4571ae18a0d1616e161b",
       "pos": [],
       "surf": []
      }
     },
     "32c13a52786140eb9b1ebdf2b445e2fe": {
      "model_module": "@jupyter-widgets/base",
      "model_module_version": "1.2.0",
      "model_name": "DOMWidgetModel",
      "state": {
       "_model_name": "DOMWidgetModel",
       "_view_module": "braketview",
       "_view_module_version": "0.0.0",
       "_view_name": "BraketView",
       "ao": [
        1
       ],
       "fragment_shader": "uniform vec3 user_color;\nuniform float time;\n\nvarying vec2 vUv;\nvarying vec3 pos;\nvarying vec3 tex;\nvarying float q;\nvarying float csI;\nvarying float csR;\nvarying float cs0;\nvarying float cs;\n\nvoid main() {\n\n    vec2 p = vUv;\n    float q = tex[0]*tex[0] +tex[1]*tex[1] +tex[2]*tex[2] ;\n    float cs0 = 8.1271853995828476*pow(tex[2], 2.0)*exp(-2.0*q);\n    float csI = 0.0 ;\n    float csR = cs0 ;\n    gl_FragColor = gl_FragColor + vec4(csR, csI, -1.0*csR, .1);\n}",
       "layout": "IPY_MODEL_89d41eb0248c46758a2a552e102c23dc",
       "pos": [],
       "surf": []
      }
     },
     "32e562c3fc5c40d981969d51fd288712": {
      "model_module": "evince",
      "model_module_version": "^0.2.0",
      "model_name": "BraketModel",
      "state": {
       "_model_module_version": "^0.2.0",
       "_view_module_version": "^0.2.0",
       "ao": [
        1
       ],
       "fragment_shader": "uniform vec3 user_color;\nuniform float time;\n\nvarying vec2 vUv;\nvarying vec3 pos;\nvarying vec3 tex;\nvarying float q;\nvarying float csI;\nvarying float csR;\nvarying float cs0;\nvarying float cs1;\nvarying float cs2;\nvarying float cs;\n\nvoid main() {\n\n    vec2 p = vUv;\n    float q = tex[0]*tex[0] +tex[1]*tex[1] +tex[2]*tex[2] ;\n    float cs0 = 0.027285409546620371*exp(-1.0*q);\n    float cs1 = 0.0083498639711291484*tex[2]*exp(-1.0*q);\n    float cs2 = q;\n    float csI = 0.0 ;\n    float csR = cs0 + cs1 + cs2 ;\n    gl_FragColor = gl_FragColor + vec4(csR, csI, -1.0*csR, .1);\n}",
       "layout": "IPY_MODEL_42ae19362a4045c1b73b452cecb6fa08",
       "pos": [],
       "surf": []
      }
     },
     "36b33528bfcd4b93927f2503b1bc8e45": {
      "model_module": "@jupyter-widgets/base",
      "model_module_version": "1.2.0",
      "model_name": "DOMWidgetModel",
      "state": {
       "_model_name": "DOMWidgetModel",
       "_view_module": "braketview",
       "_view_module_version": "0.0.0",
       "_view_name": "BraketView",
       "ao": [
        1
       ],
       "fragment_shader": "uniform vec3 user_color;\nuniform float time;\n\nvarying vec2 vUv;\nvarying vec3 pos;\nvarying vec3 tex;\nvarying float q;\nvarying float csI;\nvarying float csR;\nvarying float cs0;\nvarying float cs;\n\nvoid main() {\n\n    vec2 p = vUv;\n    float q = tex[0]*tex[0] +tex[1]*tex[1] +tex[2]*tex[2] ;\n    float cs0 = 2.0317963498957119*pow(tex[2], 2.0)*exp(-2.0*q);\n    float csI = 0.0 ;\n    float csR = cs0 ;\n    gl_FragColor = gl_FragColor + vec4(csR, csI, -1.0*csR, .1);\n}",
       "layout": "IPY_MODEL_f1dca1235f8440558135cbe07df41305",
       "pos": [],
       "surf": []
      }
     },
     "376ac0416b6d4b959b2304292665023e": {
      "model_module": "@jupyter-widgets/base",
      "model_module_version": "1.2.0",
      "model_name": "DOMWidgetModel",
      "state": {
       "_model_name": "DOMWidgetModel",
       "_view_module": "braketview",
       "_view_module_version": "0.0.0",
       "_view_name": "BraketView",
       "ao": [
        1
       ],
       "fragment_shader": "uniform vec3 user_color;\nuniform float time;\n\nvarying vec2 vUv;\nvarying vec3 pos;\nvarying vec3 tex;\nvarying float q;\nvarying float csI;\nvarying float csR;\nvarying float cs0;\nvarying float cs;\n\nvoid main() {\n\n    vec2 p = vUv;\n    float q = tex[0]*tex[0] +tex[1]*tex[1] +tex[2]*tex[2] ;\n    float cs0 = 8.1271853995828476*pow(tex[2], 2.0)*exp(-2.0*q);\n    float csI = 0.0 ;\n    float csR = cs0 ;\n    gl_FragColor = gl_FragColor + vec4(csR, csI, -1.0*csR, .1);\n}",
       "layout": "IPY_MODEL_076cb6263214494785ce1dfab79b117c",
       "pos": [],
       "surf": []
      }
     },
     "3960a903e3874330816ba682a5bbec10": {
      "model_module": "@jupyter-widgets/base",
      "model_module_version": "1.2.0",
      "model_name": "LayoutModel",
      "state": {}
     },
     "39eefe145a45403983b55632c8c68315": {
      "model_module": "@jupyter-widgets/base",
      "model_module_version": "1.2.0",
      "model_name": "LayoutModel",
      "state": {}
     },
     "3cf66afcb6f943a48443a3a90dd4fad4": {
      "model_module": "@jupyter-widgets/base",
      "model_module_version": "1.2.0",
      "model_name": "LayoutModel",
      "state": {}
     },
     "42ae19362a4045c1b73b452cecb6fa08": {
      "model_module": "@jupyter-widgets/base",
      "model_module_version": "1.2.0",
      "model_name": "LayoutModel",
      "state": {}
     },
     "4315de8e66784b74b716b976a29650b9": {
      "model_module": "evince",
      "model_module_version": "^0.2.0",
      "model_name": "BraketModel",
      "state": {
       "_model_module_version": "^0.2.0",
       "_view_module_version": "^0.2.0",
       "ao": [
        1
       ],
       "fragment_shader": "uniform vec3 user_color;\nuniform float time;\n\nvarying vec2 vUv;\nvarying vec3 pos;\nvarying vec3 tex;\nvarying float q;\nvarying float csI;\nvarying float csR;\nvarying float cs0;\nvarying float cs1;\nvarying float cs2;\nvarying float cs3;\nvarying float cs4;\nvarying float cs5;\nvarying float cs6;\nvarying float cs7;\nvarying float cs8;\nvarying float cs9;\nvarying float cs10;\nvarying float cs11;\nvarying float cs12;\nvarying float cs13;\nvarying float cs14;\nvarying float cs15;\nvarying float cs;\n\nvoid main() {\n\n    vec2 p = vUv;\n    float q = tex[0]*tex[0] +tex[1]*tex[1] +tex[2]*tex[2] ;\n    float cs0 = 1.1428854468163379*exp(-2.0*q);\n    float cs1 = 2.2857708936326757*tex[2]*exp(-2.0*q);\n    float cs2 = 2.2857708936326757*tex[1]*exp(-2.0*q);\n    float cs3 = 2.2857708936326757*tex[0]*exp(-2.0*q);\n    float cs4 = 2.2857708936326757*tex[2]*exp(-2.0*q);\n    float cs5 = 4.5715417872653514*pow(tex[2], 2.0)*exp(-2.0*q);\n    float cs6 = 4.5715417872653514*tex[1]*tex[2]*exp(-2.0*q);\n    float cs7 = 4.5715417872653514*tex[0]*tex[2]*exp(-2.0*q);\n    float cs8 = 2.2857708936326757*tex[1]*exp(-2.0*q);\n    float cs9 = 4.5715417872653514*tex[1]*tex[2]*exp(-2.0*q);\n    float cs10 = 4.5715417872653514*pow(tex[1], 2.0)*exp(-2.0*q);\n    float cs11 = 4.5715417872653514*tex[0]*tex[1]*exp(-2.0*q);\n    float cs12 = 2.2857708936326757*tex[0]*exp(-2.0*q);\n    float cs13 = 4.5715417872653514*tex[0]*tex[2]*exp(-2.0*q);\n    float cs14 = 4.5715417872653514*tex[0]*tex[1]*exp(-2.0*q);\n    float cs15 = 4.5715417872653514*pow(tex[0], 2.0)*exp(-2.0*q);\n    float csI = 0.0 ;\n    float csR = cs0 + cs1 + cs2 + cs3 + cs4 + cs5 + cs6 + cs7 + cs8 + cs9 + cs10 + cs11 + cs12 + cs13 + cs14 + cs15 ;\n    gl_FragColor = gl_FragColor + vec4(csR, csI, -1.0*csR, .1);\n}",
       "layout": "IPY_MODEL_44839224806d438995bea25cb6e35551",
       "pos": [],
       "surf": []
      }
     },
     "44839224806d438995bea25cb6e35551": {
      "model_module": "@jupyter-widgets/base",
      "model_module_version": "1.2.0",
      "model_name": "LayoutModel",
      "state": {}
     },
     "44bf0f2a1206496c9cafbc0e20063281": {
      "model_module": "@jupyter-widgets/base",
      "model_module_version": "1.2.0",
      "model_name": "DOMWidgetModel",
      "state": {
       "_model_name": "DOMWidgetModel",
       "_view_module": "braketview",
       "_view_module_version": "0.0.0",
       "_view_name": "BraketView",
       "ao": [
        1
       ],
       "fragment_shader": "uniform vec3 user_color;\nuniform float time;\n\nvarying vec2 vUv;\nvarying vec3 pos;\nvarying vec3 tex;\nvarying float q;\nvarying float csI;\nvarying float csR;\nvarying float cs0;\nvarying float cs;\n\nvoid main() {\n\n    vec2 p = vUv;\n    float q = tex[0]*tex[0] +tex[1]*tex[1] +tex[2]*tex[2] ;\n    float cs0 = 2.0317963498957119*pow(tex[2], 2.0)*exp(-2.0*q);\n    float csI = 0.0 ;\n    float csR = cs0 ;\n    gl_FragColor = gl_FragColor + vec4(csR, csI, -1.0*csR, .1);\n}",
       "layout": "IPY_MODEL_5fa9ef7793ee44e2b57a170dcebf1a00",
       "pos": [],
       "surf": []
      }
     },
     "46f00d6ad8b84dcead1b8fadc4679da6": {
      "model_module": "evince",
      "model_module_version": "^0.2.0",
      "model_name": "BraketModel",
      "state": {
       "_model_module_version": "^0.2.0",
       "_view_module_version": "^0.2.0",
       "ao": [
        1
       ],
       "fragment_shader": "uniform vec3 user_color;\nuniform float time;\n\nvarying vec2 vUv;\nvarying vec3 pos;\nvarying vec3 tex;\nvarying float q;\nvarying float csI;\nvarying float csR;\nvarying float cs0;\nvarying float cs1;\nvarying float cs;\n\nvoid main() {\n\n    vec2 p = vUv;\n    float q = tex[0]*tex[0] +tex[1]*tex[1] +tex[2]*tex[2] ;\n    float cs0 = 0.0064251042072868657*pow(tex[2], 2.0)*exp(-0.20000000000000001*q);\n    float cs1 = 0.0064251042072868657*pow(tex[1], 2.0)*exp(-0.20000000000000001*q);\n    float csI = 0.0 ;\n    float csR = cs0 + cs1 ;\n    gl_FragColor = gl_FragColor + vec4(csR, csI, -1.0*csR, .1);\n}",
       "layout": "IPY_MODEL_00a688fab2cf4a45bfdacd4fd74d70a0",
       "pos": [],
       "surf": []
      }
     },
     "5135aadb9bd248748479918c32cb9f58": {
      "model_module": "@jupyter-widgets/base",
      "model_module_version": "1.2.0",
      "model_name": "LayoutModel",
      "state": {}
     },
     "56191c4ce1a542ee8ffa4e5d5788ee52": {
      "model_module": "@jupyter-widgets/base",
      "model_module_version": "1.2.0",
      "model_name": "LayoutModel",
      "state": {}
     },
     "5bb8feb9d4cf454fb4e8e16828eb18fe": {
      "model_module": "@jupyter-widgets/base",
      "model_module_version": "1.2.0",
      "model_name": "LayoutModel",
      "state": {}
     },
     "5c90203fa35646c0b5147ac47a66154b": {
      "model_module": "evince",
      "model_module_version": "^0.2.0",
      "model_name": "BraketModel",
      "state": {
       "_model_module_version": "^0.2.0",
       "_view_module_version": "^0.2.0",
       "ao": [
        1
       ],
       "fragment_shader": "uniform vec3 user_color;\nuniform float time;\n\nvarying vec2 vUv;\nvarying vec3 pos;\nvarying vec3 tex;\nvarying float q;\nvarying float csI;\nvarying float csR;\nvarying float cs0;\nvarying float cs1;\nvarying float cs2;\nvarying float cs;\n\nvoid main() {\n\n    vec2 p = vUv;\n    float q = tex[0]*tex[0] +tex[1]*tex[1] +tex[2]*tex[2] ;\n    float cs0 = 8.0633419372281843*tex[2]*exp(-4.0*q);\n    float cs1 = 8.0633419372281843*tex[1]*exp(-4.0*q);\n    float cs2 = 8.0633419372281843*tex[0]*exp(-4.0*q);\n    float csI = 0.0 ;\n    float csR = cs0 + cs1 + cs2 ;\n    gl_FragColor = gl_FragColor + vec4(csR, csI, -1.0*csR, .1);\n}",
       "layout": "IPY_MODEL_39eefe145a45403983b55632c8c68315",
       "pos": [],
       "surf": []
      }
     },
     "5fa9ef7793ee44e2b57a170dcebf1a00": {
      "model_module": "@jupyter-widgets/base",
      "model_module_version": "1.2.0",
      "model_name": "LayoutModel",
      "state": {}
     },
     "5fe31067b1f243818c2afba27979cf2e": {
      "model_module": "@jupyter-widgets/base",
      "model_module_version": "1.2.0",
      "model_name": "LayoutModel",
      "state": {}
     },
     "6964e1484c1b45fb93af9c90ac713590": {
      "model_module": "@jupyter-widgets/base",
      "model_module_version": "1.2.0",
      "model_name": "LayoutModel",
      "state": {}
     },
     "6c6f1a6a87b54f29bb321d9171acf169": {
      "model_module": "@jupyter-widgets/base",
      "model_module_version": "1.2.0",
      "model_name": "DOMWidgetModel",
      "state": {
       "_model_name": "DOMWidgetModel",
       "_view_module": "braketview",
       "_view_module_version": "0.0.0",
       "_view_name": "BraketView",
       "ao": [
        1
       ],
       "fragment_shader": "uniform vec3 user_color;\nuniform float time;\n\nvarying vec2 vUv;\nvarying vec3 pos;\nvarying vec3 tex;\nvarying float q;\nvarying float csI;\nvarying float csR;\nvarying float cs0;\nvarying float cs;\n\nvoid main() {\n\n    vec2 p = vUv;\n    float q = tex[0]*tex[0] +tex[1]*tex[1] +tex[2]*tex[2] ;\n    float cs0 = 18.286167149061406*pow(tex[2], 2.0)*exp(-2.0*q);\n    float csI = 0.0 ;\n    float csR = cs0 ;\n    gl_FragColor = gl_FragColor + vec4(csR, csI, -1.0*csR, .1);\n}",
       "layout": "IPY_MODEL_16c9cdb21b3946998c842a37f3309cb8",
       "pos": [],
       "surf": []
      }
     },
     "6cf0f8902740408eaef8d424bc341168": {
      "model_module": "@jupyter-widgets/base",
      "model_module_version": "1.2.0",
      "model_name": "DOMWidgetModel",
      "state": {
       "_model_name": "DOMWidgetModel",
       "_view_module": "braketview",
       "_view_module_version": "0.0.0",
       "_view_name": "BraketView",
       "ao": [
        1
       ],
       "fragment_shader": "uniform vec3 user_color;\nuniform float time;\n\nvarying vec2 vUv;\nvarying vec3 pos;\nvarying vec3 tex;\nvarying float q;\nvarying float csI;\nvarying float csR;\nvarying float cs0;\nvarying float cs1;\nvarying float cs2;\nvarying float cs3;\nvarying float cs4;\nvarying float cs5;\nvarying float cs6;\nvarying float cs7;\nvarying float cs8;\nvarying float cs9;\nvarying float cs10;\nvarying float cs11;\nvarying float cs12;\nvarying float cs13;\nvarying float cs14;\nvarying float cs15;\nvarying float cs;\n\nvoid main() {\n\n    vec2 p = vUv;\n    float q = tex[0]*tex[0] +tex[1]*tex[1] +tex[2]*tex[2] ;\n    float cs0 = 0.50794908747392797*exp(-2.0*q);\n    float cs1 = 1.0158981749478559*tex[2]*exp(-2.0*q);\n    float cs2 = 1.0158981749478559*tex[1]*exp(-2.0*q);\n    float cs3 = 1.0158981749478559*tex[0]*exp(-2.0*q);\n    float cs4 = 1.0158981749478559*tex[2]*exp(-2.0*q);\n    float cs5 = 2.0317963498957119*pow(tex[2], 2.0)*exp(-2.0*q);\n    float cs6 = 2.0317963498957119*tex[1]*tex[2]*exp(-2.0*q);\n    float cs7 = 2.0317963498957119*tex[0]*tex[2]*exp(-2.0*q);\n    float cs8 = 1.0158981749478559*tex[1]*exp(-2.0*q);\n    float cs9 = 2.0317963498957119*tex[1]*tex[2]*exp(-2.0*q);\n    float cs10 = 2.0317963498957119*pow(tex[1], 2.0)*exp(-2.0*q);\n    float cs11 = 2.0317963498957119*tex[0]*tex[1]*exp(-2.0*q);\n    float cs12 = 1.0158981749478559*tex[0]*exp(-2.0*q);\n    float cs13 = 2.0317963498957119*tex[0]*tex[2]*exp(-2.0*q);\n    float cs14 = 2.0317963498957119*tex[0]*tex[1]*exp(-2.0*q);\n    float cs15 = 2.0317963498957119*pow(tex[0], 2.0)*exp(-2.0*q);\n    float csI = 0.0 ;\n    float csR = cs0 + cs1 + cs2 + cs3 + cs4 + cs5 + cs6 + cs7 + cs8 + cs9 + cs10 + cs11 + cs12 + cs13 + cs14 + cs15 ;\n    gl_FragColor = gl_FragColor + vec4(csR, csI, -1.0*csR, .1);\n}",
       "layout": "IPY_MODEL_8e8892ed5cac4691aabfee7acc0e0933",
       "pos": [],
       "surf": []
      }
     },
     "6dc3f51af99449fbbcfb0c9bf80a63ab": {
      "model_module": "evince",
      "model_module_version": "^0.2.0",
      "model_name": "BraketModel",
      "state": {
       "_model_module_version": "^0.2.0",
       "_view_module_version": "^0.2.0",
       "ao": [
        1
       ],
       "fragment_shader": "uniform vec3 user_color;\nuniform float time;\n\nvarying vec2 vUv;\nvarying vec3 pos;\nvarying vec3 tex;\nvarying float q;\nvarying float csI;\nvarying float csR;\nvarying float cs0;\nvarying float cs;\n\nvoid main() {\n\n    vec2 p = vUv;\n    float q = tex[0]*tex[0] +tex[1]*tex[1] +tex[2]*tex[2] ;\n    float cs0 = 4.5715417872653514*pow(tex[2], 2.0)*exp(-2.0*q);\n    float csI = 0.0 ;\n    float csR = cs0 ;\n    gl_FragColor = gl_FragColor + vec4(csR, csI, -1.0*csR, .1);\n}",
       "layout": "IPY_MODEL_f4c4aef87ed54a3f920afc860421a72d",
       "pos": [],
       "surf": []
      }
     },
     "6e3e3b3a50634f5ba2521ad5908d8bcb": {
      "model_module": "@jupyter-widgets/base",
      "model_module_version": "1.2.0",
      "model_name": "LayoutModel",
      "state": {}
     },
     "71cfce14ad8a45358fd19a0968253bfd": {
      "model_module": "evince",
      "model_module_version": "^0.2.0",
      "model_name": "BraketModel",
      "state": {
       "_model_module_version": "^0.2.0",
       "_view_module_version": "^0.2.0",
       "ao": [
        1
       ],
       "fragment_shader": "uniform vec3 user_color;\nuniform float time;\n\nvarying vec2 vUv;\nvarying vec3 pos;\nvarying vec3 tex;\nvarying float q;\nvarying float csI;\nvarying float csR;\nvarying float cs0;\nvarying float cs1;\nvarying float cs2;\nvarying float cs;\n\nvoid main() {\n\n    vec2 p = vUv;\n    float q = tex[0]*tex[0] +tex[1]*tex[1] +tex[2]*tex[2] ;\n    float cs0 = 0.027285409546620371*exp(-1.0*q);\n    float cs1 = 0.0083498639711291484*tex[2]*exp(-1.0*q);\n    float cs2 = q;\n    float csI = 0.0 ;\n    float csR = cs0 + cs1 + cs2 ;\n    gl_FragColor = gl_FragColor + vec4(csR, csI, -1.0*csR, .1);\n}",
       "layout": "IPY_MODEL_00379ba225bf473b89553c7499d56503",
       "pos": [],
       "surf": []
      }
     },
     "71def20f6c5248c18b0675eae3b0112d": {
      "model_module": "@jupyter-widgets/base",
      "model_module_version": "1.2.0",
      "model_name": "LayoutModel",
      "state": {}
     },
     "759d401bafea45c0bb7f23687809bd5c": {
      "model_module": "evince",
      "model_module_version": "^0.2.0",
      "model_name": "BraketModel",
      "state": {
       "_model_module_version": "^0.2.0",
       "_view_module_version": "^0.2.0",
       "ao": [
        1
       ],
       "fragment_shader": "uniform vec3 user_color;\nuniform float time;\n\nvarying vec2 vUv;\nvarying vec3 pos;\nvarying vec3 tex;\nvarying float q;\nvarying float csI;\nvarying float csR;\nvarying float cs0;\nvarying float cs1;\nvarying float cs2;\nvarying float cs;\n\nvoid main() {\n\n    vec2 p = vUv;\n    float q = tex[0]*tex[0] +tex[1]*tex[1] +tex[2]*tex[2] ;\n    float cs0 = 1.4254109407099806*tex[2]*exp(-1.0*q);\n    float cs1 = 1.4254109407099806*tex[1]*exp(-1.0*q);\n    float cs2 = 1.4254109407099806*tex[0]*exp(-1.0*q);\n    float csI = 0.0 ;\n    float csR = cs0 + cs1 + cs2 ;\n    gl_FragColor = gl_FragColor + vec4(csR, csI, -1.0*csR, .1);\n}",
       "layout": "IPY_MODEL_788da97839c243e48fcbffc90c94eab9",
       "pos": [],
       "surf": []
      }
     },
     "75a7935574874f1c812d44a63d1ccd9d": {
      "model_module": "@jupyter-widgets/base",
      "model_module_version": "1.2.0",
      "model_name": "LayoutModel",
      "state": {}
     },
     "76450b5c9e9641c997ab13317838f5b3": {
      "model_module": "@jupyter-widgets/base",
      "model_module_version": "1.2.0",
      "model_name": "LayoutModel",
      "state": {}
     },
     "788da97839c243e48fcbffc90c94eab9": {
      "model_module": "@jupyter-widgets/base",
      "model_module_version": "1.2.0",
      "model_name": "LayoutModel",
      "state": {}
     },
     "7c1d7269641a41d6a6180529e0900091": {
      "model_module": "evince",
      "model_module_version": "^0.2.0",
      "model_name": "BraketModel",
      "state": {
       "_model_module_version": "^0.2.0",
       "_view_module_version": "^0.2.0",
       "ao": [
        1
       ],
       "fragment_shader": "uniform vec3 user_color;\nuniform float time;\n\nvarying vec2 vUv;\nvarying vec3 pos;\nvarying vec3 tex;\nvarying float q;\nvarying float csI;\nvarying float csR;\nvarying float cs0;\nvarying float cs1;\nvarying float cs2;\nvarying float cs;\n\nvoid main() {\n\n    vec2 p = vUv;\n    float q = tex[0]*tex[0] +tex[1]*tex[1] +tex[2]*tex[2] ;\n    float cs0 = 0.027285409546620371*exp(-1.0*q);\n    float cs1 = 0.0083498639711291484*tex[2]*exp(-1.0*q);\n    float cs2 = q;\n    float csI = 0.0 ;\n    float csR = cs0 + cs1 + cs2 ;\n    gl_FragColor = gl_FragColor + vec4(csR, csI, -1.0*csR, .1);\n}",
       "layout": "IPY_MODEL_c664295fa6c142f49dfeb12b820fd128",
       "pos": [],
       "surf": []
      }
     },
     "7d1a63cef75d4384b55fb2f092f91cd4": {
      "model_module": "@jupyter-widgets/base",
      "model_module_version": "1.2.0",
      "model_name": "DOMWidgetModel",
      "state": {
       "_model_name": "DOMWidgetModel",
       "_view_module": "braketview",
       "_view_module_version": "0.0.0",
       "_view_name": "BraketView",
       "ao": [
        1
       ],
       "fragment_shader": "uniform vec3 user_color;\nuniform float time;\n\nvarying vec2 vUv;\nvarying vec3 pos;\nvarying vec3 tex;\nvarying float q;\nvarying float csI;\nvarying float csR;\nvarying float cs0;\nvarying float cs;\n\nvoid main() {\n\n    vec2 p = vUv;\n    float q = tex[0]*tex[0] +tex[1]*tex[1] +tex[2]*tex[2] ;\n    float cs0 = 4.5715417872653514*pow(tex[2], 2.0)*exp(-2.0*q);\n    float csI = 0.0 ;\n    float csR = cs0 ;\n    gl_FragColor = gl_FragColor + vec4(csR, csI, -1.0*csR, .1);\n}",
       "layout": "IPY_MODEL_1afd0516348d4838af29e99fc4b8c81a",
       "pos": [],
       "surf": []
      }
     },
     "805507bc1d364767b07f3211039f3cc8": {
      "model_module": "@jupyter-widgets/base",
      "model_module_version": "1.2.0",
      "model_name": "LayoutModel",
      "state": {}
     },
     "87b83c9d40cd48a68f289f65ebafb56d": {
      "model_module": "@jupyter-widgets/base",
      "model_module_version": "1.2.0",
      "model_name": "LayoutModel",
      "state": {}
     },
     "89d41eb0248c46758a2a552e102c23dc": {
      "model_module": "@jupyter-widgets/base",
      "model_module_version": "1.2.0",
      "model_name": "LayoutModel",
      "state": {}
     },
     "89f2009c94554a6793389a5c0ff3805a": {
      "model_module": "evince",
      "model_module_version": "^0.2.0",
      "model_name": "BraketModel",
      "state": {
       "_model_module_version": "^0.2.0",
       "_view_module_version": "^0.2.0",
       "ao": [
        1
       ],
       "fragment_shader": "uniform vec3 user_color;\nuniform float time;\n\nvarying vec2 vUv;\nvarying vec3 pos;\nvarying vec3 tex;\nvarying float q;\nvarying float csI;\nvarying float csR;\nvarying float cs0;\nvarying float cs1;\nvarying float cs2;\nvarying float cs;\n\nvoid main() {\n\n    vec2 p = vUv;\n    float q = tex[0]*tex[0] +tex[1]*tex[1] +tex[2]*tex[2] ;\n    float cs0 = 0.027285409546620371*exp(-1.0*q);\n    float cs1 = 0.0083498639711291484*tex[2]*exp(-1.0*q);\n    float cs2 = q;\n    float csI = 0.0 ;\n    float csR = cs0 + cs1 + cs2 ;\n    gl_FragColor = gl_FragColor + vec4(csR, csI, -1.0*csR, .1);\n}",
       "layout": "IPY_MODEL_f7f172009a824d10b5ff6e903dc1ca5d",
       "pos": [],
       "surf": []
      }
     },
     "8e8892ed5cac4691aabfee7acc0e0933": {
      "model_module": "@jupyter-widgets/base",
      "model_module_version": "1.2.0",
      "model_name": "LayoutModel",
      "state": {}
     },
     "8ff3fc83f1e241929ec9a1de418660f5": {
      "model_module": "@jupyter-widgets/base",
      "model_module_version": "1.2.0",
      "model_name": "DOMWidgetModel",
      "state": {
       "_model_name": "DOMWidgetModel",
       "_view_module": "braketview",
       "_view_module_version": "0.0.0",
       "_view_name": "BraketView",
       "ao": [
        1
       ],
       "fragment_shader": "uniform vec3 user_color;\nuniform float time;\n\nvarying vec2 vUv;\nvarying vec3 pos;\nvarying vec3 tex;\nvarying float q;\nvarying float csI;\nvarying float csR;\nvarying float cs0;\nvarying float cs;\n\nvoid main() {\n\n    vec2 p = vUv;\n    float q = tex[0]*tex[0] +tex[1]*tex[1] +tex[2]*tex[2] ;\n    float cs0 = 20.317963498957116*pow(tex[2], 2.0)*exp(-2.0*q);\n    float csI = 0.0 ;\n    float csR = cs0 ;\n    gl_FragColor = gl_FragColor + vec4(csR, csI, -1.0*csR, .1);\n}",
       "layout": "IPY_MODEL_080db232b3fb425eb8de802dabb7f320",
       "pos": [],
       "surf": []
      }
     },
     "9155fe3f913f4a8f988b006a05a2775b": {
      "model_module": "evince",
      "model_module_version": "^0.2.0",
      "model_name": "BraketModel",
      "state": {
       "_model_module_version": "^0.2.0",
       "_view_module_version": "^0.2.0",
       "ao": [
        1
       ],
       "fragment_shader": "uniform vec3 user_color;\nuniform float time;\n\nvarying vec2 vUv;\nvarying vec3 pos;\nvarying vec3 tex;\nvarying float q;\nvarying float csI;\nvarying float csR;\nvarying float cs0;\nvarying float cs1;\nvarying float cs;\n\nvoid main() {\n\n    vec2 p = vUv;\n    float q = tex[0]*tex[0] +tex[1]*tex[1] +tex[2]*tex[2] ;\n    float cs0 = 0.35917424425033317*pow(tex[2], 2.0)*exp(-1.0*q);\n    float cs1 = 0.35917424425033317*pow(tex[1], 2.0)*exp(-1.0*q);\n    float csI = 0.0 ;\n    float csR = cs0 + cs1 ;\n    gl_FragColor = gl_FragColor + vec4(csR, csI, -1.0*csR, .1);\n}",
       "layout": "IPY_MODEL_5135aadb9bd248748479918c32cb9f58",
       "pos": [],
       "surf": []
      }
     },
     "98400d4fe3124c32aece59b21ecbb4bb": {
      "model_module": "@jupyter-widgets/base",
      "model_module_version": "1.2.0",
      "model_name": "DOMWidgetModel",
      "state": {
       "_model_name": "DOMWidgetModel",
       "_view_module": "braketview",
       "_view_module_version": "0.0.0",
       "_view_name": "BraketView",
       "ao": [
        1
       ],
       "fragment_shader": "uniform vec3 user_color;\nuniform float time;\n\nvarying vec2 vUv;\nvarying vec3 pos;\nvarying vec3 tex;\nvarying float q;\nvarying float csI;\nvarying float csR;\nvarying float cs0;\nvarying float cs;\n\nvoid main() {\n\n    vec2 p = vUv;\n    float q = tex[0]*tex[0] +tex[1]*tex[1] +tex[2]*tex[2] ;\n    float cs0 = 1.4254109407099806*tex[2]*exp(-1.0*q);\n    float csI = 0.0 ;\n    float csR = cs0 ;\n    gl_FragColor = gl_FragColor + vec4(csR, csI, -1.0*csR, .1);\n}",
       "layout": "IPY_MODEL_05d1d5c695e24e629efaa0cf3d80ce0c",
       "pos": [],
       "surf": []
      }
     },
     "9b71f765644649e287665eb8dd9aab8b": {
      "model_module": "evince",
      "model_module_version": "^0.2.0",
      "model_name": "BraketModel",
      "state": {
       "_model_module_version": "^0.2.0",
       "_view_module_version": "^0.2.0",
       "ao": [
        1
       ],
       "fragment_shader": "uniform vec3 user_color;\nuniform float time;\n\nvarying vec2 vUv;\nvarying vec3 pos;\nvarying vec3 tex;\nvarying float q;\nvarying float csI;\nvarying float csR;\nvarying float cs0;\nvarying float cs1;\nvarying float cs2;\nvarying float cs;\n\nvoid main() {\n\n    vec2 p = vUv;\n    float q = tex[0]*tex[0] +tex[1]*tex[1] +tex[2]*tex[2] ;\n    float cs0 = 0.27285409546620371*exp(-1.0*q);\n    float cs1 = 0.083498639711291484*tex[2]*exp(-1.0*q);\n    float cs2 = q;\n    float csI = 0.0 ;\n    float csR = cs0 + cs1 + cs2 ;\n    gl_FragColor = gl_FragColor + vec4(csR, csI, -1.0*csR, .1);\n}",
       "layout": "IPY_MODEL_56191c4ce1a542ee8ffa4e5d5788ee52",
       "pos": [],
       "surf": []
      }
     },
     "9d128f811b9245af8e8dd02a0c6d0306": {
      "model_module": "evince",
      "model_module_version": "^0.2.0",
      "model_name": "BraketModel",
      "state": {
       "_model_module_version": "^0.2.0",
       "_view_module_version": "^0.2.0",
       "ao": [
        1
       ],
       "fragment_shader": "uniform vec3 user_color;\nuniform float time;\n\nvarying vec2 vUv;\nvarying vec3 pos;\nvarying vec3 tex;\nvarying float q;\nvarying float csI;\nvarying float csR;\nvarying float cs0;\nvarying float cs1;\nvarying float cs2;\nvarying float cs3;\nvarying float cs4;\nvarying float cs5;\nvarying float cs6;\nvarying float cs7;\nvarying float cs8;\nvarying float cs9;\nvarying float cs10;\nvarying float cs11;\nvarying float cs12;\nvarying float cs13;\nvarying float cs14;\nvarying float cs15;\nvarying float cs;\n\nvoid main() {\n\n    vec2 p = vUv;\n    float q = tex[0]*tex[0] +tex[1]*tex[1] +tex[2]*tex[2] ;\n    float cs0 = 0.18779524195970368*exp(-0.59999999999999998*q);\n    float cs1 = 0.20571938042694077*tex[2]*exp(-0.59999999999999998*q);\n    float cs2 = 0.20571938042694077*tex[1]*exp(-0.59999999999999998*q);\n    float cs3 = 0.20571938042694077*tex[0]*exp(-0.59999999999999998*q);\n    float cs4 = 0.20571938042694077*tex[2]*exp(-0.59999999999999998*q);\n    float cs5 = 0.22535429035164442*pow(tex[2], 2.0)*exp(-0.59999999999999998*q);\n    float cs6 = 0.22535429035164442*tex[1]*tex[2]*exp(-0.59999999999999998*q);\n    float cs7 = 0.22535429035164442*tex[0]*tex[2]*exp(-0.59999999999999998*q);\n    float cs8 = 0.20571938042694077*tex[1]*exp(-0.59999999999999998*q);\n    float cs9 = 0.22535429035164442*tex[1]*tex[2]*exp(-0.59999999999999998*q);\n    float cs10 = 0.22535429035164442*pow(tex[1], 2.0)*exp(-0.59999999999999998*q);\n    float cs11 = 0.22535429035164442*tex[0]*tex[1]*exp(-0.59999999999999998*q);\n    float cs12 = 0.20571938042694077*tex[0]*exp(-0.59999999999999998*q);\n    float cs13 = 0.22535429035164442*tex[0]*tex[2]*exp(-0.59999999999999998*q);\n    float cs14 = 0.22535429035164442*tex[0]*tex[1]*exp(-0.59999999999999998*q);\n    float cs15 = 0.22535429035164442*pow(tex[0], 2.0)*exp(-0.59999999999999998*q);\n    float csI = 0.0 ;\n    float csR = cs0 + cs1 + cs2 + cs3 + cs4 + cs5 + cs6 + cs7 + cs8 + cs9 + cs10 + cs11 + cs12 + cs13 + cs14 + cs15 ;\n    gl_FragColor = gl_FragColor + vec4(csR, csI, -1.0*csR, .1);\n}",
       "layout": "IPY_MODEL_6964e1484c1b45fb93af9c90ac713590",
       "pos": [],
       "surf": []
      }
     },
     "9f45e41483a741898b4fe5dad3321c7d": {
      "model_module": "evince",
      "model_module_version": "^0.2.0",
      "model_name": "BraketModel",
      "state": {
       "_model_module_version": "^0.2.0",
       "_view_module_version": "^0.2.0",
       "ao": [
        1
       ],
       "fragment_shader": "uniform vec3 user_color;\nuniform float time;\n\nvarying vec2 vUv;\nvarying vec3 pos;\nvarying vec3 tex;\nvarying float q;\nvarying float csI;\nvarying float csR;\nvarying float cs0;\nvarying float cs;\n\nvoid main() {\n\n    vec2 p = vUv;\n    float q = tex[0]*tex[0] +tex[1]*tex[1] +tex[2]*tex[2] ;\n    float cs0 = 4.5715417872653514*pow(tex[2], 2.0)*exp(-2.0*q);\n    float csI = 0.0 ;\n    float csR = cs0 ;\n    gl_FragColor = gl_FragColor + vec4(csR, csI, -1.0*csR, .1);\n}",
       "layout": "IPY_MODEL_71def20f6c5248c18b0675eae3b0112d",
       "pos": [],
       "surf": []
      }
     },
     "a03c8a860ea64b1c8dec85962edac1d4": {
      "model_module": "@jupyter-widgets/base",
      "model_module_version": "1.2.0",
      "model_name": "LayoutModel",
      "state": {}
     },
     "ab962189194b4767b3a1613e80ff071c": {
      "model_module": "@jupyter-widgets/base",
      "model_module_version": "1.2.0",
      "model_name": "DOMWidgetModel",
      "state": {
       "_model_name": "DOMWidgetModel",
       "_view_module": "braketview",
       "_view_module_version": "0.0.0",
       "_view_name": "BraketView",
       "ao": [
        1
       ],
       "fragment_shader": "uniform vec3 user_color;\nuniform float time;\n\nvarying vec2 vUv;\nvarying vec3 pos;\nvarying vec3 tex;\nvarying float q;\nvarying float csI;\nvarying float csR;\nvarying float cs0;\nvarying float cs;\n\nvoid main() {\n\n    vec2 p = vUv;\n    float q = tex[0]*tex[0] +tex[1]*tex[1] +tex[2]*tex[2] ;\n    float cs0 = 8.1271853995828476*pow(tex[2], 2.0)*exp(-2.0*q);\n    float csI = 0.0 ;\n    float csR = cs0 ;\n    gl_FragColor = gl_FragColor + vec4(csR, csI, -1.0*csR, .1);\n}",
       "layout": "IPY_MODEL_bb3d98d93d774be99ffd0d1adcb186a7",
       "pos": [],
       "surf": []
      }
     },
     "accd0619a7644ad3b0f7c552cc0b1e02": {
      "model_module": "evince",
      "model_module_version": "^0.2.0",
      "model_name": "BraketModel",
      "state": {
       "_model_module_version": "^0.2.0",
       "_view_module_version": "^0.2.0",
       "ao": [
        1
       ],
       "fragment_shader": "uniform vec3 user_color;\nuniform float time;\n\nvarying vec2 vUv;\nvarying vec3 pos;\nvarying vec3 tex;\nvarying float q;\nvarying float csI;\nvarying float csR;\nvarying float cs0;\nvarying float cs1;\nvarying float cs2;\nvarying float cs;\n\nvoid main() {\n\n    vec2 p = vUv;\n    float q = tex[0]*tex[0] +tex[1]*tex[1] +tex[2]*tex[2] ;\n    float cs0 = 0.10015746237850863*pow(tex[2], 2.0)*exp(-0.59999999999999998*q);\n    float cs1 = 0.10015746237850863*pow(tex[1], 2.0)*exp(-0.59999999999999998*q);\n    float cs2 = 0.10015746237850863*pow(tex[0], 2.0)*exp(-0.59999999999999998*q);\n    float csI = 0.0 ;\n    float csR = cs0 + cs1 + cs2 ;\n    gl_FragColor = gl_FragColor + vec4(csR, csI, -1.0*csR, .1);\n}",
       "layout": "IPY_MODEL_3960a903e3874330816ba682a5bbec10",
       "pos": [],
       "surf": []
      }
     },
     "b0c096f59ba84261969f7f9d891a3c0e": {
      "model_module": "@jupyter-widgets/base",
      "model_module_version": "1.2.0",
      "model_name": "LayoutModel",
      "state": {}
     },
     "b6bc03031f6241f4bf86c8114117264a": {
      "model_module": "@jupyter-widgets/base",
      "model_module_version": "1.2.0",
      "model_name": "LayoutModel",
      "state": {}
     },
     "baf78f039b2a46b492c877c4531bb346": {
      "model_module": "evince",
      "model_module_version": "^0.2.0",
      "model_name": "BraketModel",
      "state": {
       "_model_module_version": "^0.2.0",
       "_view_module_version": "^0.2.0",
       "ao": [
        1
       ],
       "fragment_shader": "uniform vec3 user_color;\nuniform float time;\n\nvarying vec2 vUv;\nvarying vec3 pos;\nvarying vec3 tex;\nvarying float q;\nvarying float csI;\nvarying float csR;\nvarying float cs0;\nvarying float cs1;\nvarying float cs2;\nvarying float cs;\n\nvoid main() {\n\n    vec2 p = vUv;\n    float q = tex[0]*tex[0] +tex[1]*tex[1] +tex[2]*tex[2] ;\n    float cs0 = 0.027285409546620371*exp(-1.0*q);\n    float cs1 = 0.0083498639711291484*tex[2]*exp(-1.0*q);\n    float cs2 = q;\n    float csI = 0.0 ;\n    float csR = cs0 + cs1 + cs2 ;\n    gl_FragColor = gl_FragColor + vec4(csR, csI, -1.0*csR, .1);\n}",
       "layout": "IPY_MODEL_c27071aa4188480db5c20e02ecc0c19c",
       "pos": [],
       "surf": []
      }
     },
     "bb3d98d93d774be99ffd0d1adcb186a7": {
      "model_module": "@jupyter-widgets/base",
      "model_module_version": "1.2.0",
      "model_name": "LayoutModel",
      "state": {}
     },
     "c05daf55d4894cf09fe7b74110685001": {
      "model_module": "evince",
      "model_module_version": "^0.2.0",
      "model_name": "BraketModel",
      "state": {
       "_model_module_version": "^0.2.0",
       "_view_module_version": "^0.2.0",
       "ao": [
        1
       ],
       "fragment_shader": "uniform vec3 user_color;\nuniform float time;\n\nvarying vec2 vUv;\nvarying vec3 pos;\nvarying vec3 tex;\nvarying float q;\nvarying float csI;\nvarying float csR;\nvarying float cs0;\nvarying float cs1;\nvarying float cs2;\nvarying float cs3;\nvarying float cs4;\nvarying float cs5;\nvarying float cs6;\nvarying float cs7;\nvarying float cs8;\nvarying float cs9;\nvarying float cs10;\nvarying float cs11;\nvarying float cs12;\nvarying float cs13;\nvarying float cs14;\nvarying float cs15;\nvarying float cs;\n\nvoid main() {\n\n    vec2 p = vUv;\n    float q = tex[0]*tex[0] +tex[1]*tex[1] +tex[2]*tex[2] ;\n    float cs0 = 1.1428854468163379*exp(-2.0*q);\n    float cs1 = 2.2857708936326757*tex[2]*exp(-2.0*q);\n    float cs2 = 2.2857708936326757*tex[1]*exp(-2.0*q);\n    float cs3 = 2.2857708936326757*tex[0]*exp(-2.0*q);\n    float cs4 = 2.2857708936326757*tex[2]*exp(-2.0*q);\n    float cs5 = 4.5715417872653514*pow(tex[2], 2.0)*exp(-2.0*q);\n    float cs6 = 4.5715417872653514*tex[1]*tex[2]*exp(-2.0*q);\n    float cs7 = 4.5715417872653514*tex[0]*tex[2]*exp(-2.0*q);\n    float cs8 = 2.2857708936326757*tex[1]*exp(-2.0*q);\n    float cs9 = 4.5715417872653514*tex[1]*tex[2]*exp(-2.0*q);\n    float cs10 = 4.5715417872653514*pow(tex[1], 2.0)*exp(-2.0*q);\n    float cs11 = 4.5715417872653514*tex[0]*tex[1]*exp(-2.0*q);\n    float cs12 = 2.2857708936326757*tex[0]*exp(-2.0*q);\n    float cs13 = 4.5715417872653514*tex[0]*tex[2]*exp(-2.0*q);\n    float cs14 = 4.5715417872653514*tex[0]*tex[1]*exp(-2.0*q);\n    float cs15 = 4.5715417872653514*pow(tex[0], 2.0)*exp(-2.0*q);\n    float csI = 0.0 ;\n    float csR = cs0 + cs1 + cs2 + cs3 + cs4 + cs5 + cs6 + cs7 + cs8 + cs9 + cs10 + cs11 + cs12 + cs13 + cs14 + cs15 ;\n    gl_FragColor = gl_FragColor + vec4(csR, csI, -1.0*csR, .1);\n}",
       "layout": "IPY_MODEL_eb5684dd651942a8b1e788c838f193cb",
       "pos": [],
       "surf": []
      }
     },
     "c27071aa4188480db5c20e02ecc0c19c": {
      "model_module": "@jupyter-widgets/base",
      "model_module_version": "1.2.0",
      "model_name": "LayoutModel",
      "state": {}
     },
     "c664295fa6c142f49dfeb12b820fd128": {
      "model_module": "@jupyter-widgets/base",
      "model_module_version": "1.2.0",
      "model_name": "LayoutModel",
      "state": {}
     },
     "c84b7b439a9445c98f218217dc14c4a3": {
      "model_module": "@jupyter-widgets/base",
      "model_module_version": "1.2.0",
      "model_name": "LayoutModel",
      "state": {}
     },
     "cbf560d8ffc345da8b615bc01087b8c4": {
      "model_module": "evince",
      "model_module_version": "^0.2.0",
      "model_name": "BraketModel",
      "state": {
       "_model_module_version": "^0.2.0",
       "_view_module_version": "^0.2.0",
       "ao": [
        1
       ],
       "fragment_shader": "uniform vec3 user_color;\nuniform float time;\n\nvarying vec2 vUv;\nvarying vec3 pos;\nvarying vec3 tex;\nvarying float q;\nvarying float csI;\nvarying float csR;\nvarying float cs0;\nvarying float cs1;\nvarying float cs2;\nvarying float cs;\n\nvoid main() {\n\n    vec2 p = vUv;\n    float q = tex[0]*tex[0] +tex[1]*tex[1] +tex[2]*tex[2] ;\n    float cs0 = 0.27285409546620371*exp(-1.0*q);\n    float cs1 = 0.083498639711291484*tex[2]*exp(-1.0*q);\n    float cs2 = q;\n    float csI = 0.0 ;\n    float csR = cs0 + cs1 + cs2 ;\n    gl_FragColor = gl_FragColor + vec4(csR, csI, -1.0*csR, .1);\n}",
       "layout": "IPY_MODEL_75a7935574874f1c812d44a63d1ccd9d",
       "pos": [],
       "surf": []
      }
     },
     "cf8e80048c16435d84aa49871413dfc8": {
      "model_module": "@jupyter-widgets/base",
      "model_module_version": "1.2.0",
      "model_name": "DOMWidgetModel",
      "state": {
       "_model_name": "DOMWidgetModel",
       "_view_module": "braketview",
       "_view_module_version": "0.0.0",
       "_view_name": "BraketView",
       "ao": [
        1
       ],
       "fragment_shader": "uniform vec3 user_color;\nuniform float time;\n\nvarying vec2 vUv;\nvarying vec3 pos;\nvarying vec3 tex;\nvarying float q;\nvarying float csI;\nvarying float csR;\nvarying float cs0;\nvarying float cs;\n\nvoid main() {\n\n    vec2 p = vUv;\n    float q = tex[0]*tex[0] +tex[1]*tex[1] +tex[2]*tex[2] ;\n    float cs0 = 4.5715417872653514*pow(tex[2], 2.0)*exp(-2.0*q);\n    float csI = 0.0 ;\n    float csR = cs0 ;\n    gl_FragColor = gl_FragColor + vec4(csR, csI, -1.0*csR, .1);\n}",
       "layout": "IPY_MODEL_3cf66afcb6f943a48443a3a90dd4fad4",
       "pos": [],
       "surf": []
      }
     },
     "d303cf75236d4deb84fb2e3e0ed7dc79": {
      "model_module": "evince",
      "model_module_version": "^0.2.0",
      "model_name": "BraketModel",
      "state": {
       "_model_module_version": "^0.2.0",
       "_view_module_version": "^0.2.0",
       "ao": [
        1
       ],
       "fragment_shader": "uniform vec3 user_color;\nuniform float time;\n\nvarying vec2 vUv;\nvarying vec3 pos;\nvarying vec3 tex;\nvarying float q;\nvarying float csI;\nvarying float csR;\nvarying float cs0;\nvarying float cs1;\nvarying float cs2;\nvarying float cs;\n\nvoid main() {\n\n    vec2 p = vUv;\n    float q = tex[0]*tex[0] +tex[1]*tex[1] +tex[2]*tex[2] ;\n    float cs0 = 2.7285409546620363*exp(-1.0*q);\n    float cs1 = 0.83498639711291489*tex[2]*exp(-1.0*q);\n    float cs2 = q;\n    float csI = 0.0 ;\n    float csR = cs0 + cs1 + cs2 ;\n    gl_FragColor = gl_FragColor + vec4(csR, csI, -1.0*csR, .1);\n}",
       "layout": "IPY_MODEL_f3316fa62a674c02ba14dc964a157b23",
       "pos": [],
       "surf": []
      }
     },
     "d4604883249e4571ae18a0d1616e161b": {
      "model_module": "@jupyter-widgets/base",
      "model_module_version": "1.2.0",
      "model_name": "LayoutModel",
      "state": {}
     },
     "d679fbb0a51d45c493e91584297ae9b7": {
      "model_module": "evince",
      "model_module_version": "^0.2.0",
      "model_name": "BraketModel",
      "state": {
       "_model_module_version": "^0.2.0",
       "_view_module_version": "^0.2.0",
       "ao": [
        1
       ],
       "fragment_shader": "uniform vec3 user_color;\nuniform float time;\n\nvarying vec2 vUv;\nvarying vec3 pos;\nvarying vec3 tex;\nvarying float q;\nvarying float csI;\nvarying float csR;\nvarying float cs0;\nvarying float cs1;\nvarying float cs2;\nvarying float cs;\n\nvoid main() {\n\n    vec2 p = vUv;\n    float q = tex[0]*tex[0] +tex[1]*tex[1] +tex[2]*tex[2] ;\n    float cs0 = 0.027285409546620371*exp(-1.0*q);\n    float cs1 = 0.0083498639711291484*tex[2]*exp(-1.0*q);\n    float cs2 = q;\n    float csI = 0.0 ;\n    float csR = cs0 + cs1 + cs2 ;\n    gl_FragColor = gl_FragColor + vec4(csR, csI, -1.0*csR, .1);\n}",
       "layout": "IPY_MODEL_5fe31067b1f243818c2afba27979cf2e",
       "pos": [],
       "surf": []
      }
     },
     "db61f30b341a476794e33694ade6eb85": {
      "model_module": "evince",
      "model_module_version": "^0.2.0",
      "model_name": "BraketModel",
      "state": {
       "_model_module_version": "^0.2.0",
       "_view_module_version": "^0.2.0",
       "ao": [
        1
       ],
       "fragment_shader": "uniform vec3 user_color;\nuniform float time;\n\nvarying vec2 vUv;\nvarying vec3 pos;\nvarying vec3 tex;\nvarying float q;\nvarying float csI;\nvarying float csR;\nvarying float cs0;\nvarying float cs1;\nvarying float cs2;\nvarying float cs;\n\nvoid main() {\n\n    vec2 p = vUv;\n    float q = tex[0]*tex[0] +tex[1]*tex[1] +tex[2]*tex[2] ;\n    float cs0 = 0.35917424425033317*pow(tex[2], 2.0)*exp(-1.0*q);\n    float cs1 = 0.35917424425033317*pow(tex[1], 2.0)*exp(-1.0*q);\n    float cs2 = 0.35917424425033317*pow(tex[0], 2.0)*exp(-1.0*q);\n    float csI = 0.0 ;\n    float csR = cs0 + cs1 + cs2 ;\n    gl_FragColor = gl_FragColor + vec4(csR, csI, -1.0*csR, .1);\n}",
       "layout": "IPY_MODEL_18e1e1698b01465db84bc3df02cf30e2",
       "pos": [],
       "surf": []
      }
     },
     "de6583e87e1f49a5ae74b85c0cc9db1b": {
      "model_module": "@jupyter-widgets/base",
      "model_module_version": "1.2.0",
      "model_name": "LayoutModel",
      "state": {}
     },
     "df5f8b6f14624d368e265a2b68cbcf6b": {
      "model_module": "evince",
      "model_module_version": "^0.2.0",
      "model_name": "BraketModel",
      "state": {
       "_model_module_version": "^0.2.0",
       "_view_module_version": "^0.2.0",
       "ao": [
        1
       ],
       "fragment_shader": "uniform vec3 user_color;\nuniform float time;\n\nvarying vec2 vUv;\nvarying vec3 pos;\nvarying vec3 tex;\nvarying float q;\nvarying float csI;\nvarying float csR;\nvarying float cs0;\nvarying float cs1;\nvarying float cs2;\nvarying float cs;\n\nvoid main() {\n\n    vec2 p = vUv;\n    float q = tex[0]*tex[0] +tex[1]*tex[1] +tex[2]*tex[2] ;\n    float cs0 = 0.27285409546620371*exp(-1.0*q);\n    float cs1 = 0.083498639711291484*tex[2]*exp(-1.0*q);\n    float cs2 = q;\n    float csI = 0.0 ;\n    float csR = cs0 + cs1 + cs2 ;\n    gl_FragColor = gl_FragColor + vec4(csR, csI, -1.0*csR, .1);\n}",
       "layout": "IPY_MODEL_b6bc03031f6241f4bf86c8114117264a",
       "pos": [],
       "surf": []
      }
     },
     "e0efba7f75b64d8f8113135fbdd1ea2b": {
      "model_module": "evince",
      "model_module_version": "^0.2.0",
      "model_name": "BraketModel",
      "state": {
       "_model_module_version": "^0.2.0",
       "_view_module_version": "^0.2.0",
       "ao": [
        1
       ],
       "fragment_shader": "uniform vec3 user_color;\nuniform float time;\n\nvarying vec2 vUv;\nvarying vec3 pos;\nvarying vec3 tex;\nvarying float q;\nvarying float csI;\nvarying float csR;\nvarying float cs0;\nvarying float cs1;\nvarying float cs;\n\nvoid main() {\n\n    vec2 p = vUv;\n    float q = tex[0]*tex[0] +tex[1]*tex[1] +tex[2]*tex[2] ;\n    float cs0 = 65.017483196662766*pow(tex[2], 2.0)*exp(-8.0*q);\n    float cs1 = 65.017483196662766*pow(tex[1], 2.0)*exp(-8.0*q);\n    float csI = 0.0 ;\n    float csR = cs0 + cs1 ;\n    gl_FragColor = gl_FragColor + vec4(csR, csI, -1.0*csR, .1);\n}",
       "layout": "IPY_MODEL_ee3421b04014470f9040708f7bbef7dc",
       "pos": [],
       "surf": []
      }
     },
     "e2fa4e57ca9b44ad9af5b571af70b29e": {
      "model_module": "@jupyter-widgets/base",
      "model_module_version": "1.2.0",
      "model_name": "LayoutModel",
      "state": {}
     },
     "e32c1c5249744a258676d5ed381c4879": {
      "model_module": "evince",
      "model_module_version": "^0.2.0",
      "model_name": "BraketModel",
      "state": {
       "_model_module_version": "^0.2.0",
       "_view_module_version": "^0.2.0",
       "ao": [
        1
       ],
       "fragment_shader": "uniform vec3 user_color;\nuniform float time;\n\nvarying vec2 vUv;\nvarying vec3 pos;\nvarying vec3 tex;\nvarying float q;\nvarying float csI;\nvarying float csR;\nvarying float cs0;\nvarying float cs1;\nvarying float cs2;\nvarying float cs3;\nvarying float cs;\n\nvoid main() {\n\n    vec2 p = vUv;\n    float q = tex[0]*tex[0] +tex[1]*tex[1] +tex[2]*tex[2] ;\n    float cs0 = 0.50794908747392797*exp(-2.0*q);\n    float cs1 = 2.0317963498957119*pow(tex[2], 2.0)*exp(-2.0*q);\n    float cs2 = 2.0317963498957119*pow(tex[1], 2.0)*exp(-2.0*q);\n    float cs3 = 2.0317963498957119*pow(tex[0], 2.0)*exp(-2.0*q);\n    float csI = 0.0 ;\n    float csR = cs0 + cs1 + cs2 + cs3 ;\n    gl_FragColor = gl_FragColor + vec4(csR, csI, -1.0*csR, .1);\n}",
       "layout": "IPY_MODEL_87b83c9d40cd48a68f289f65ebafb56d",
       "pos": [],
       "surf": []
      }
     },
     "e9480414148947778943b81c51021664": {
      "model_module": "evince",
      "model_module_version": "^0.2.0",
      "model_name": "BraketModel",
      "state": {
       "_model_module_version": "^0.2.0",
       "_view_module_version": "^0.2.0",
       "ao": [
        1
       ],
       "fragment_shader": "uniform vec3 user_color;\nuniform float time;\n\nvarying vec2 vUv;\nvarying vec3 pos;\nvarying vec3 tex;\nvarying float q;\nvarying float csI;\nvarying float csR;\nvarying float cs0;\nvarying float cs1;\nvarying float cs2;\nvarying float cs;\n\nvoid main() {\n\n    vec2 p = vUv;\n    float q = tex[0]*tex[0] +tex[1]*tex[1] +tex[2]*tex[2] ;\n    float cs0 = 0.30047238713552588*pow(tex[2], 2.0)*exp(-0.59999999999999998*q);\n    float cs1 = 0.30047238713552588*pow(tex[1], 2.0)*exp(-0.59999999999999998*q);\n    float cs2 = 0.10015746237850863*pow(tex[0], 2.0)*exp(-0.59999999999999998*q);\n    float csI = 0.0 ;\n    float csR = cs0 + cs1 + cs2 ;\n    gl_FragColor = gl_FragColor + vec4(csR, csI, -1.0*csR, .1);\n}",
       "layout": "IPY_MODEL_142edc5143524e1bb929bbb5ca955a35",
       "pos": [],
       "surf": []
      }
     },
     "eb5684dd651942a8b1e788c838f193cb": {
      "model_module": "@jupyter-widgets/base",
      "model_module_version": "1.2.0",
      "model_name": "LayoutModel",
      "state": {}
     },
     "ee3421b04014470f9040708f7bbef7dc": {
      "model_module": "@jupyter-widgets/base",
      "model_module_version": "1.2.0",
      "model_name": "LayoutModel",
      "state": {}
     },
     "eef23cd1002d4a36b2915e1dac2dccea": {
      "model_module": "@jupyter-widgets/base",
      "model_module_version": "1.2.0",
      "model_name": "DOMWidgetModel",
      "state": {
       "_model_name": "DOMWidgetModel",
       "_view_module": "braketview",
       "_view_module_version": "0.0.0",
       "_view_name": "BraketView",
       "ao": [
        1
       ],
       "fragment_shader": "uniform vec3 user_color;\nuniform float time;\n\nvarying vec2 vUv;\nvarying vec3 pos;\nvarying vec3 tex;\nvarying float q;\nvarying float csI;\nvarying float csR;\nvarying float cs0;\nvarying float cs;\n\nvoid main() {\n\n    vec2 p = vUv;\n    float q = tex[0]*tex[0] +tex[1]*tex[1] +tex[2]*tex[2] ;\n    float cs0 = 2.0317963498957119*pow(tex[2], 2.0)*exp(-2.0*q);\n    float csI = 0.0 ;\n    float csR = cs0 ;\n    gl_FragColor = gl_FragColor + vec4(csR, csI, -1.0*csR, .1);\n}",
       "layout": "IPY_MODEL_24c9a6c5db5248ff8500230dfa8d57f7",
       "pos": [],
       "surf": []
      }
     },
     "f0e9c6152fac49dfa6fe01476024e85f": {
      "model_module": "evince",
      "model_module_version": "^0.2.0",
      "model_name": "BraketModel",
      "state": {
       "_model_module_version": "^0.2.0",
       "_view_module_version": "^0.2.0",
       "ao": [
        1
       ],
       "fragment_shader": "uniform vec3 user_color;\nuniform float time;\n\nvarying vec2 vUv;\nvarying vec3 pos;\nvarying vec3 tex;\nvarying float q;\nvarying float csI;\nvarying float csR;\nvarying float cs0;\nvarying float cs1;\nvarying float cs2;\nvarying float cs;\n\nvoid main() {\n\n    vec2 p = vUv;\n    float q = tex[0]*tex[0] +tex[1]*tex[1] +tex[2]*tex[2] ;\n    float cs0 = 0.027285409546620371*exp(-1.0*q);\n    float cs1 = 0.0083498639711291484*tex[2]*exp(-1.0*q);\n    float cs2 = q;\n    float csI = 0.0 ;\n    float csR = cs0 + cs1 + cs2 ;\n    gl_FragColor = gl_FragColor + vec4(csR, csI, -1.0*csR, .1);\n}",
       "layout": "IPY_MODEL_092c92dafdb24dfc9787b2d7a75a0477",
       "pos": [],
       "surf": []
      }
     },
     "f1dca1235f8440558135cbe07df41305": {
      "model_module": "@jupyter-widgets/base",
      "model_module_version": "1.2.0",
      "model_name": "LayoutModel",
      "state": {}
     },
     "f3316fa62a674c02ba14dc964a157b23": {
      "model_module": "@jupyter-widgets/base",
      "model_module_version": "1.2.0",
      "model_name": "LayoutModel",
      "state": {}
     },
     "f3927260810e4e7cbd58f7bc79486bc2": {
      "model_module": "evince",
      "model_module_version": "^0.2.0",
      "model_name": "BraketModel",
      "state": {
       "_model_module_version": "^0.2.0",
       "_view_module_version": "^0.2.0",
       "ao": [
        1
       ],
       "fragment_shader": "uniform vec3 user_color;\nuniform float time;\n\nvarying vec2 vUv;\nvarying vec3 pos;\nvarying vec3 tex;\nvarying float q;\nvarying float csI;\nvarying float csR;\nvarying float cs0;\nvarying float cs;\n\nvoid main() {\n\n    vec2 p = vUv;\n    float q = tex[0]*tex[0] +tex[1]*tex[1] +tex[2]*tex[2] ;\n    float cs0 = 4.5715417872653514*pow(tex[2], 2.0)*exp(-2.0*q);\n    float csI = 0.0 ;\n    float csR = cs0 ;\n    gl_FragColor = gl_FragColor + vec4(csR, csI, -1.0*csR, .1);\n}",
       "layout": "IPY_MODEL_c84b7b439a9445c98f218217dc14c4a3",
       "pos": [],
       "surf": []
      }
     },
     "f4c4aef87ed54a3f920afc860421a72d": {
      "model_module": "@jupyter-widgets/base",
      "model_module_version": "1.2.0",
      "model_name": "LayoutModel",
      "state": {}
     },
     "f7f172009a824d10b5ff6e903dc1ca5d": {
      "model_module": "@jupyter-widgets/base",
      "model_module_version": "1.2.0",
      "model_name": "LayoutModel",
      "state": {}
     },
     "f9dbf84a3ca6415c8de4ea45e6a0b39c": {
      "model_module": "evince",
      "model_module_version": "^0.2.0",
      "model_name": "BraketModel",
      "state": {
       "_model_module_version": "^0.2.0",
       "_view_module_version": "^0.2.0",
       "ao": [
        1
       ],
       "fragment_shader": "uniform vec3 user_color;\nuniform float time;\n\nvarying vec2 vUv;\nvarying vec3 pos;\nvarying vec3 tex;\nvarying float q;\nvarying float csI;\nvarying float csR;\nvarying float cs0;\nvarying float cs1;\nvarying float cs2;\nvarying float cs;\n\nvoid main() {\n\n    vec2 p = vUv;\n    float q = tex[0]*tex[0] +tex[1]*tex[1] +tex[2]*tex[2] ;\n    float cs0 = 0.027285409546620371*exp(-1.0*q);\n    float cs1 = 0.0083498639711291484*tex[2]*exp(-1.0*q);\n    float cs2 = q;\n    float csI = 0.0 ;\n    float csR = cs0 + cs1 + cs2 ;\n    gl_FragColor = gl_FragColor + vec4(csR, csI, -1.0*csR, .1);\n}",
       "layout": "IPY_MODEL_b0c096f59ba84261969f7f9d891a3c0e",
       "pos": [],
       "surf": []
      }
     },
     "fbe338b6f5d04aea93cf3ddd4ec5201d": {
      "model_module": "evince",
      "model_module_version": "^0.2.0",
      "model_name": "BraketModel",
      "state": {
       "_model_module_version": "^0.2.0",
       "_view_module_version": "^0.2.0",
       "ao": [
        1
       ],
       "fragment_shader": "uniform vec3 user_color;\nuniform float time;\n\nvarying vec2 vUv;\nvarying vec3 pos;\nvarying vec3 tex;\nvarying float q;\nvarying float csI;\nvarying float csR;\nvarying float cs0;\nvarying float cs1;\nvarying float cs2;\nvarying float cs;\n\nvoid main() {\n\n    vec2 p = vUv;\n    float q = tex[0]*tex[0] +tex[1]*tex[1] +tex[2]*tex[2] ;\n    float cs0 = 0.027285409546620371*exp(-1.0*q);\n    float cs1 = 0.0083498639711291484*tex[2]*exp(-1.0*q);\n    float cs2 = q;\n    float csI = 0.0 ;\n    float csR = cs0 + cs1 + cs2 ;\n    gl_FragColor = gl_FragColor + vec4(csR, csI, -1.0*csR, .1);\n}",
       "layout": "IPY_MODEL_76450b5c9e9641c997ab13317838f5b3",
       "pos": [],
       "surf": []
      }
     },
     "fd4cb13faf894b4d86b8203d02b576e7": {
      "model_module": "@jupyter-widgets/base",
      "model_module_version": "1.2.0",
      "model_name": "DOMWidgetModel",
      "state": {
       "_model_name": "DOMWidgetModel",
       "_view_module": "braketview",
       "_view_module_version": "0.0.0",
       "_view_name": "BraketView",
       "ao": [
        1
       ],
       "fragment_shader": "uniform vec3 user_color;\nuniform float time;\n\nvarying vec2 vUv;\nvarying vec3 pos;\nvarying vec3 tex;\nvarying float q;\nvarying float csI;\nvarying float csR;\nvarying float cs0;\nvarying float cs1;\nvarying float cs2;\nvarying float cs3;\nvarying float cs4;\nvarying float cs5;\nvarying float cs6;\nvarying float cs7;\nvarying float cs8;\nvarying float cs9;\nvarying float cs10;\nvarying float cs11;\nvarying float cs12;\nvarying float cs13;\nvarying float cs14;\nvarying float cs15;\nvarying float cs;\n\nvoid main() {\n\n    vec2 p = vUv;\n    float q = tex[0]*tex[0] +tex[1]*tex[1] +tex[2]*tex[2] ;\n    float cs0 = 0.50794908747392797*exp(-2.0*q);\n    float cs1 = 1.0158981749478559*tex[2]*exp(-2.0*q);\n    float cs2 = 1.0158981749478559*tex[1]*exp(-2.0*q);\n    float cs3 = 1.0158981749478559*tex[0]*exp(-2.0*q);\n    float cs4 = 1.0158981749478559*tex[2]*exp(-2.0*q);\n    float cs5 = 2.0317963498957119*pow(tex[2], 2.0)*exp(-2.0*q);\n    float cs6 = 2.0317963498957119*tex[1]*tex[2]*exp(-2.0*q);\n    float cs7 = 2.0317963498957119*tex[0]*tex[2]*exp(-2.0*q);\n    float cs8 = 1.0158981749478559*tex[1]*exp(-2.0*q);\n    float cs9 = 2.0317963498957119*tex[1]*tex[2]*exp(-2.0*q);\n    float cs10 = 2.0317963498957119*pow(tex[1], 2.0)*exp(-2.0*q);\n    float cs11 = 2.0317963498957119*tex[0]*tex[1]*exp(-2.0*q);\n    float cs12 = 1.0158981749478559*tex[0]*exp(-2.0*q);\n    float cs13 = 2.0317963498957119*tex[0]*tex[2]*exp(-2.0*q);\n    float cs14 = 2.0317963498957119*tex[0]*tex[1]*exp(-2.0*q);\n    float cs15 = 2.0317963498957119*pow(tex[0], 2.0)*exp(-2.0*q);\n    float csI = 0.0 ;\n    float csR = cs0 + cs1 + cs2 + cs3 + cs4 + cs5 + cs6 + cs7 + cs8 + cs9 + cs10 + cs11 + cs12 + cs13 + cs14 + cs15 ;\n    gl_FragColor = gl_FragColor + vec4(csR, csI, -1.0*csR, .1);\n}",
       "layout": "IPY_MODEL_6e3e3b3a50634f5ba2521ad5908d8bcb",
       "pos": [],
       "surf": []
      }
     }
    },
    "version_major": 2,
    "version_minor": 0
   }
  }
 },
 "nbformat": 4,
 "nbformat_minor": 5
}
