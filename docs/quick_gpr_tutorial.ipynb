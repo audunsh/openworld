{
 "cells": [
  {
   "cell_type": "markdown",
   "metadata": {},
   "source": [
    "# Quick tutorial on the Gaussian process regression module from btjenesten\n",
    "\n",
    "<b>Developed by</b> Elias Anderssen Dalan <a href=\"mailto:ceadyy@gmail.com\">✉️</a>, supported by Centre for Computing in Science Education and Hylleraas Centre for Quantum Molecular Sciences."
   ]
  },
  {
   "cell_type": "markdown",
   "metadata": {},
   "source": [
    "### Things you might need to know before tackling this notebook:\n",
    "<ul>\n",
    "  <li><a href=\"https://audunsh.github.io/openworld/polynomial_regression/\">Notebook on polynomial regression </a></li>\n",
    "  <li><a href=\"https://audunsh.github.io/openworld/Covariance/\">Notebook on covariance</a></li>\n",
    "  <li><a href=\"https://audunsh.github.io/openworld/Kernels/\">Notebook on kernels</a></li>\n",
    "  <li><a href=\"https://audunsh.github.io/openworld/GPR_intro/\">Notebook on Gaussian process regression</a></li>\n",
    "</ul>"
   ]
  },
  {
   "cell_type": "markdown",
   "metadata": {},
   "source": [
    "This notebook aims to give a quick and consise introduction to the different features of the Gaussian process regression module. We will take a look at the example function $f(x, y) = \\frac{1}{(1 + x^2 + y^2)}$ and try to maximize it iteratively, by using the regressors own aquisition function. Lets first take a look at our model function."
   ]
  },
  {
   "cell_type": "code",
   "execution_count": 1,
   "metadata": {},
   "outputs": [],
   "source": [
    "import matplotlib.pyplot as plt\n",
    "from btjenesten import gpr\n",
    "from btjenesten import kernels\n",
    "import numpy as np"
   ]
  },
  {
   "cell_type": "code",
   "execution_count": 2,
   "metadata": {},
   "outputs": [],
   "source": [
    "def f(x, y):\n",
    "    return (1 + x**2 + y**2)**(-1)"
   ]
  },
  {
   "cell_type": "code",
   "execution_count": 3,
   "metadata": {},
   "outputs": [
    {
     "data": {
      "image/png": "[encoded data removed]",
      "text/plain": [
       "<Figure size 720x576 with 2 Axes>"
      ]
     },
     "metadata": {
      "needs_background": "light"
     },
     "output_type": "display_data"
    }
   ],
   "source": [
    "xy = np.linspace(-3, 3, 100)\n",
    "\n",
    "f(*np.meshgrid(xy, xy))\n",
    "\n",
    "plt.figure(figsize=(10, 8))\n",
    "plt.contourf(xy, xy, f(*np.meshgrid(xy, xy)), cmap=\"bone\")\n",
    "plt.colorbar()\n",
    "plt.show()"
   ]
  },
  {
   "cell_type": "markdown",
   "metadata": {},
   "source": [
    "# Setting up a regressor\n",
    "\n",
    "We can observe that the function only has one maxima, and that is $f(0,0) = 1$. The first thing we will look at is how to set up a regressor. Our regressor needs to things:\n",
    "<ul>\n",
    "    <li> A set of parameters, often called training features. In our case this is some set of pairs of $(x,y)$.\n",
    "    <li> A set of corresponding outputs, often called training labels. In your case this will be the function values $f(x,y)$ evaluated at the previously mentioned pairs of $(x,y)$.\n",
    "</ul>\n",
    "\n",
    "To show the flexibility of Gaussian process regression we will create our training data randomly."
   ]
  },
  {
   "cell_type": "code",
   "execution_count": 4,
   "metadata": {},
   "outputs": [],
   "source": [
    "N_pairs = 5\n",
    "\n",
    "x_y_pairs = np.random.uniform(-3, 3, (N_pairs, 2)) #Now a set of N_pairs pairs\n",
    "f_xy = f(x_y_pairs[:,0], x_y_pairs[:,1])\n",
    "\n",
    "regressor = gpr.Regressor(x_y_pairs, f_xy)"
   ]
  },
  {
   "cell_type": "markdown",
   "metadata": {},
   "source": [
    "Now lets take a look at our function and the randomly generated points that we will train our regressor on:"
   ]
  },
  {
   "cell_type": "code",
   "execution_count": 5,
   "metadata": {},
   "outputs": [
    {
     "data": {
      "image/png": "[encoded data removed]",
      "text/plain": [
       "<Figure size 720x576 with 2 Axes>"
      ]
     },
     "metadata": {
      "needs_background": "light"
     },
     "output_type": "display_data"
    }
   ],
   "source": [
    "plt.figure(figsize=(10, 8))\n",
    "plt.scatter(x_y_pairs[:,0], x_y_pairs[:,1], zorder=10, color=\"red\")\n",
    "plt.contourf(xy, xy, f(*np.meshgrid(xy, xy)), cmap=\"bone\")\n",
    "plt.colorbar()\n",
    "plt.show()"
   ]
  },
  {
   "cell_type": "markdown",
   "metadata": {},
   "source": [
    "# Predicting an unknown value\n",
    "\n",
    "We know that our function has only one maxima, at $(0,0)$, with the corresponding value 1. Lets try to evaluate it there to see how good the current regressor is!"
   ]
  },
  {
   "cell_type": "code",
   "execution_count": 6,
   "metadata": {},
   "outputs": [
    {
     "name": "stdout",
     "output_type": "stream",
     "text": [
      "True value at (0,0) = 1, predicted value = 0.05651724872592907\n"
     ]
    }
   ],
   "source": [
    "zero_zero = [0,0]\n",
    "zero_zero = np.array(zero_zero)\n",
    "\n",
    "#If you want to use the predict-method to only evaluate one point you have to reshape the input data as so:\n",
    "zero_zero = zero_zero.reshape(1, -1)\n",
    "\n",
    "predicted_f = regressor.predict(zero_zero)\n",
    "\n",
    "print(f\"True value at (0,0) = 1, predicted value = {predicted_f[0]}\")"
   ]
  },
  {
   "cell_type": "markdown",
   "metadata": {},
   "source": [
    "# Updating our regressor\n",
    "The predicted answer may be great or may be terrible, based on how lucky we are with the random training data that was created earlier in this notebook. One way we can obtain a better approximation is by expanding the training data. Lets add two more sets of $(x, y)$. We can tinker with these points to see how it affects our regressor, try changing them! What do you think will happen if we added $(0,0)$ to the training set?"
   ]
  },
  {
   "cell_type": "code",
   "execution_count": 7,
   "metadata": {},
   "outputs": [
    {
     "name": "stdout",
     "output_type": "stream",
     "text": [
      "True value at (0,0) = 1, predicted value = 0.8774016579219486\n"
     ]
    }
   ],
   "source": [
    "p1 = [0.5, 0.5]\n",
    "p1 = np.array(p1)\n",
    "\n",
    "p2 = [-0.3, -0.3]\n",
    "p2 = np.array(p2)\n",
    "\n",
    "f_p1 = f(p1[0], p1[1])\n",
    "f_p1 = np.array([f_p1])\n",
    "\n",
    "f_p2 = f(p2[0], p2[1])\n",
    "f_p2 = np.array([f_p2])\n",
    "\n",
    "regressor.update(p1, f_p1)\n",
    "regressor.update(p2, f_p2)\n",
    "\n",
    "predicted_f = regressor.predict(zero_zero)\n",
    "\n",
    "print(f\"True value at (0,0) = 1, predicted value = {predicted_f[0]}\")"
   ]
  },
  {
   "cell_type": "markdown",
   "metadata": {},
   "source": [
    "One thing to mention is that the update method has an additional parameter called tol. If two training points are too close to each other, we might encounter "
   ]
  },
  {
   "cell_type": "markdown",
   "metadata": {},
   "source": [
    "# Using our regressor to maximise/minimize our function\n",
    "\n",
    "If you are using the regressor to model some kind of process that can either be maximized or minimized, the aquisition function is what you need. The aquisition function takes the model function that the gpr has predicted, and tries to optimize it. If you run ```regressor.aquisition```the regressor tries to guess where you should measure next in order to maximize or minimize your function, depending on your choice. The aquisition function looks like this:\n",
    "\n",
    "\\begin{equation}\n",
    "UCB(\\mathbf{x}; \\delta, \\lambda) = GPR(\\mathbf{x}) + [(1 - \\sigma(\\mathbf{x}))^2 \\cdot \\delta + \\sigma(\\mathbf{x})] \\cdot \\lambda,\n",
    "\\end{equation}\n",
    "\n",
    "where $\\sigma(\\mathbf{x})$ is the standard deviation, and $\\delta$ and $\\lambda$ are variables that can be adjusted to allow for more exploration. $\\delta$ governs exploration around training points where the standard deviation is low, while $\\lambda$ governs exploration of the whole function. Think:  Now let us see if we can to to get our model to converge at $(0,0)$. "
   ]
  },
  {
   "cell_type": "code",
   "execution_count": 8,
   "metadata": {},
   "outputs": [
    {
     "name": "stdout",
     "output_type": "stream",
     "text": [
      "True value at (0,0) = 1, predicted value = 0.9441912481503028\n",
      "True value at (0,0) = 1, predicted value = 0.9990318026518028\n",
      "True value at (0,0) = 1, predicted value = 0.9995358565287394\n",
      "True value at (0,0) = 1, predicted value = 0.9998200423519616\n",
      "True value at (0,0) = 1, predicted value = 1.000006399200826\n",
      "True value at (0,0) = 1, predicted value = 0.9999977334530737\n",
      "True value at (0,0) = 1, predicted value = 0.9999999940043702\n",
      "True value at (0,0) = 1, predicted value = 1.0000000003561476\n",
      "True value at (0,0) = 1, predicted value = 1.0000000001117422\n",
      "True value at (0,0) = 1, predicted value = 1.0000000000468543\n"
     ]
    }
   ],
   "source": [
    "n_updates = 10\n",
    "\n",
    "for i in range(n_updates):\n",
    "    p = regressor.aquisition(minimize_prediction=False, l=1, delta = 0.5)\n",
    "    \n",
    "    f_p = f(p[0], p[1])\n",
    "    f_p = np.array([f_p])\n",
    "    \n",
    "    regressor.update(p, f_p, tol=1e-12)\n",
    "    \n",
    "    predicted_f = regressor.predict(zero_zero)\n",
    "    print(f\"True value at (0,0) = 1, predicted value = {predicted_f[0]}\")"
   ]
  },
  {
   "cell_type": "markdown",
   "metadata": {},
   "source": [
    "You might notice the parameter ```tol``` passed into the update function. A problem we might encounter when updating our training set is duplicates inside of our training data. If our training data has duplicates, we encounter something called a $\\textit{singular matrix}$. A singular matrix cannot be inverted, which the regressor must do when trying to predict a value for some input $\\mathbf{x}$. The ```tol``` parameter is here to prevent this, and might need to be fine-tuned to optimalize our model. If ```tol```is to low, we might encounter a singular matrix, but if it is too high our model might converge prematurely."
   ]
  },
  {
   "cell_type": "markdown",
   "metadata": {},
   "source": [
    "# How well does our model function perform?\n",
    "\n",
    "The last function that our module has is a function to calculate some type of score for our function, more specifically the average and maximum error from the true function. Lets now try to generate 10000 random test samples and calculate the average and maximum deviation between our model and true function."
   ]
  },
  {
   "cell_type": "code",
   "execution_count": 9,
   "metadata": {},
   "outputs": [
    {
     "name": "stdout",
     "output_type": "stream",
     "text": [
      "The average error of the test set was: 0.04202105199002277, while the maximum error was: 0.21892275314263837\n"
     ]
    }
   ],
   "source": [
    "N_test = 10000\n",
    "\n",
    "x_y_test = np.random.uniform(-1, 1, (N_test, 2))\n",
    "f_x_y_test = f(x_y_test[:,0], x_y_test[:,1])\n",
    "\n",
    "average_error, maximum_error = regressor.score(x_y_test, f_x_y_test)\n",
    "\n",
    "print(f\"The average error of the test set was: {average_error}, while the maximum error was: {maximum_error}\")"
   ]
  }
 ],
 "metadata": {
  "kernelspec": {
   "display_name": "Python 3",
   "language": "python",
   "name": "python3"
  },
  "language_info": {
   "codemirror_mode": {
    "name": "ipython",
    "version": 3
   },
   "file_extension": ".py",
   "mimetype": "text/x-python",
   "name": "python",
   "nbconvert_exporter": "python",
   "pygments_lexer": "ipython3",
   "version": "3.8.3"
  }
 },
 "nbformat": 4,
 "nbformat_minor": 4
}
